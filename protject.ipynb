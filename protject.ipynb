{
 "cells": [
  {
   "cell_type": "markdown",
   "metadata": {
    "toc": true
   },
   "source": [
    "<h1>Содержание<span class=\"tocSkip\"></span></h1>\n",
    "<div class=\"toc\"><ul class=\"toc-item\"><li><span><a href=\"#Отток-клиентов\" data-toc-modified-id=\"Отток-клиентов-1\"><span class=\"toc-item-num\">1&nbsp;&nbsp;</span>Отток клиентов</a></span></li><li><span><a href=\"#Подготовка-данных\" data-toc-modified-id=\"Подготовка-данных-2\"><span class=\"toc-item-num\">2&nbsp;&nbsp;</span>Подготовка данных</a></span></li><li><span><a href=\"#Исследование-задачи\" data-toc-modified-id=\"Исследование-задачи-3\"><span class=\"toc-item-num\">3&nbsp;&nbsp;</span>Исследование задачи</a></span></li><li><span><a href=\"#Борьба-с-дисбалансом\" data-toc-modified-id=\"Борьба-с-дисбалансом-4\"><span class=\"toc-item-num\">4&nbsp;&nbsp;</span>Борьба с дисбалансом</a></span><ul class=\"toc-item\"><li><span><a href=\"#Изменение-порога\" data-toc-modified-id=\"Изменение-порога-4.1\"><span class=\"toc-item-num\">4.1&nbsp;&nbsp;</span>Изменение порога</a></span></li><li><span><a href=\"#Увеличение-выборки\" data-toc-modified-id=\"Увеличение-выборки-4.2\"><span class=\"toc-item-num\">4.2&nbsp;&nbsp;</span>Увеличение выборки</a></span></li><li><span><a href=\"#Взвешивание-классов\" data-toc-modified-id=\"Взвешивание-классов-4.3\"><span class=\"toc-item-num\">4.3&nbsp;&nbsp;</span>Взвешивание классов</a></span></li><li><span><a href=\"#Kлассификатор-дерева-решений\" data-toc-modified-id=\"Kлассификатор-дерева-решений-4.4\"><span class=\"toc-item-num\">4.4&nbsp;&nbsp;</span>Kлассификатор дерева решений</a></span></li><li><span><a href=\"#Kлассификатор-случайный-лес-(лучшая-модель)\" data-toc-modified-id=\"Kлассификатор-случайный-лес-(лучшая-модель)-4.5\"><span class=\"toc-item-num\">4.5&nbsp;&nbsp;</span>Kлассификатор случайный лес (лучшая модель)</a></span></li><li><span><a href=\"#Выводы\" data-toc-modified-id=\"Выводы-4.6\"><span class=\"toc-item-num\">4.6&nbsp;&nbsp;</span>Выводы</a></span></li></ul></li><li><span><a href=\"#Тестирование-модели\" data-toc-modified-id=\"Тестирование-модели-5\"><span class=\"toc-item-num\">5&nbsp;&nbsp;</span>Тестирование модели</a></span></li></ul></div>"
   ]
  },
  {
   "cell_type": "markdown",
   "metadata": {},
   "source": [
    "## Отток клиентов"
   ]
  },
  {
   "cell_type": "markdown",
   "metadata": {},
   "source": [
    "Из «Бета-Банка» стали уходить клиенты. Каждый месяц. Немного, но заметно. Банковские маркетологи посчитали: сохранять текущих клиентов дешевле, чем привлекать новых.\n",
    "\n",
    "Нужно спрогнозировать, уйдёт клиент из банка в ближайшее время или нет. Вам предоставлены исторические данные о поведении клиентов и расторжении договоров с банком. \n",
    "\n",
    "Постройте модель с предельно большим значением *F1*-меры. Чтобы сдать проект успешно, нужно довести метрику до 0.59. Проверьте *F1*-меру на тестовой выборке самостоятельно.\n",
    "\n",
    "Дополнительно измеряйте *AUC-ROC*, сравнивайте её значение с *F1*-мерой.\n",
    "\n",
    "Источник данных: [https://www.kaggle.com/barelydedicated/bank-customer-churn-modeling](https://www.kaggle.com/barelydedicated/bank-customer-churn-modeling)"
   ]
  },
  {
   "cell_type": "markdown",
   "metadata": {},
   "source": [
    "## Подготовка данных"
   ]
  },
  {
   "cell_type": "code",
   "execution_count": 1,
   "metadata": {},
   "outputs": [],
   "source": [
    "import pandas as pd\n",
    "import numpy as np\n",
    "import matplotlib.pyplot as plt\n",
    "import matplotlib.ticker as ticker\n",
    "from sklearn.metrics import f1_score, precision_score, recall_score, roc_curve, roc_auc_score, precision_recall_curve, confusion_matrix\n",
    "from sklearn.model_selection import train_test_split\n",
    "from sklearn.linear_model import LogisticRegression\n",
    "from sklearn.utils import shuffle \n",
    "from sklearn.preprocessing import StandardScaler\n",
    "from sklearn.ensemble import RandomForestClassifier\n",
    "from sklearn.tree import DecisionTreeClassifier"
   ]
  },
  {
   "cell_type": "code",
   "execution_count": 2,
   "metadata": {},
   "outputs": [],
   "source": [
    "#сохраняем путь к файлу на сервере Практикума\n",
    "server_path = '/datasets/Churn.csv' \n",
    "\n",
    "#сохраняем путь к файлу на компьютере\n",
    "local_path = 'data.csv' \n",
    "\n",
    "try:                                                   #пробуем найти данные по сетевому адресу\n",
    "    df = pd.read_csv(server_path) \n",
    "except:                                                #если не находим по сетевому, ищем по локальному\n",
    "    df = pd.read_csv(local_path)    "
   ]
  },
  {
   "cell_type": "code",
   "execution_count": 3,
   "metadata": {},
   "outputs": [
    {
     "name": "stdout",
     "output_type": "stream",
     "text": [
      "<class 'pandas.core.frame.DataFrame'>\n",
      "RangeIndex: 10000 entries, 0 to 9999\n",
      "Data columns (total 14 columns):\n",
      " #   Column           Non-Null Count  Dtype  \n",
      "---  ------           --------------  -----  \n",
      " 0   RowNumber        10000 non-null  int64  \n",
      " 1   CustomerId       10000 non-null  int64  \n",
      " 2   Surname          10000 non-null  object \n",
      " 3   CreditScore      10000 non-null  int64  \n",
      " 4   Geography        10000 non-null  object \n",
      " 5   Gender           10000 non-null  object \n",
      " 6   Age              10000 non-null  int64  \n",
      " 7   Tenure           9091 non-null   float64\n",
      " 8   Balance          10000 non-null  float64\n",
      " 9   NumOfProducts    10000 non-null  int64  \n",
      " 10  HasCrCard        10000 non-null  int64  \n",
      " 11  IsActiveMember   10000 non-null  int64  \n",
      " 12  EstimatedSalary  10000 non-null  float64\n",
      " 13  Exited           10000 non-null  int64  \n",
      "dtypes: float64(3), int64(8), object(3)\n",
      "memory usage: 1.1+ MB\n"
     ]
    }
   ],
   "source": [
    "df.info()"
   ]
  },
  {
   "cell_type": "code",
   "execution_count": 4,
   "metadata": {},
   "outputs": [
    {
     "data": {
      "text/html": [
       "<div>\n",
       "<style scoped>\n",
       "    .dataframe tbody tr th:only-of-type {\n",
       "        vertical-align: middle;\n",
       "    }\n",
       "\n",
       "    .dataframe tbody tr th {\n",
       "        vertical-align: top;\n",
       "    }\n",
       "\n",
       "    .dataframe thead th {\n",
       "        text-align: right;\n",
       "    }\n",
       "</style>\n",
       "<table border=\"1\" class=\"dataframe\">\n",
       "  <thead>\n",
       "    <tr style=\"text-align: right;\">\n",
       "      <th></th>\n",
       "      <th>RowNumber</th>\n",
       "      <th>CustomerId</th>\n",
       "      <th>Surname</th>\n",
       "      <th>CreditScore</th>\n",
       "      <th>Geography</th>\n",
       "      <th>Gender</th>\n",
       "      <th>Age</th>\n",
       "      <th>Tenure</th>\n",
       "      <th>Balance</th>\n",
       "      <th>NumOfProducts</th>\n",
       "      <th>HasCrCard</th>\n",
       "      <th>IsActiveMember</th>\n",
       "      <th>EstimatedSalary</th>\n",
       "      <th>Exited</th>\n",
       "    </tr>\n",
       "  </thead>\n",
       "  <tbody>\n",
       "    <tr>\n",
       "      <th>0</th>\n",
       "      <td>1</td>\n",
       "      <td>15634602</td>\n",
       "      <td>Hargrave</td>\n",
       "      <td>619</td>\n",
       "      <td>France</td>\n",
       "      <td>Female</td>\n",
       "      <td>42</td>\n",
       "      <td>2.0</td>\n",
       "      <td>0.00</td>\n",
       "      <td>1</td>\n",
       "      <td>1</td>\n",
       "      <td>1</td>\n",
       "      <td>101348.88</td>\n",
       "      <td>1</td>\n",
       "    </tr>\n",
       "    <tr>\n",
       "      <th>1</th>\n",
       "      <td>2</td>\n",
       "      <td>15647311</td>\n",
       "      <td>Hill</td>\n",
       "      <td>608</td>\n",
       "      <td>Spain</td>\n",
       "      <td>Female</td>\n",
       "      <td>41</td>\n",
       "      <td>1.0</td>\n",
       "      <td>83807.86</td>\n",
       "      <td>1</td>\n",
       "      <td>0</td>\n",
       "      <td>1</td>\n",
       "      <td>112542.58</td>\n",
       "      <td>0</td>\n",
       "    </tr>\n",
       "    <tr>\n",
       "      <th>2</th>\n",
       "      <td>3</td>\n",
       "      <td>15619304</td>\n",
       "      <td>Onio</td>\n",
       "      <td>502</td>\n",
       "      <td>France</td>\n",
       "      <td>Female</td>\n",
       "      <td>42</td>\n",
       "      <td>8.0</td>\n",
       "      <td>159660.80</td>\n",
       "      <td>3</td>\n",
       "      <td>1</td>\n",
       "      <td>0</td>\n",
       "      <td>113931.57</td>\n",
       "      <td>1</td>\n",
       "    </tr>\n",
       "    <tr>\n",
       "      <th>3</th>\n",
       "      <td>4</td>\n",
       "      <td>15701354</td>\n",
       "      <td>Boni</td>\n",
       "      <td>699</td>\n",
       "      <td>France</td>\n",
       "      <td>Female</td>\n",
       "      <td>39</td>\n",
       "      <td>1.0</td>\n",
       "      <td>0.00</td>\n",
       "      <td>2</td>\n",
       "      <td>0</td>\n",
       "      <td>0</td>\n",
       "      <td>93826.63</td>\n",
       "      <td>0</td>\n",
       "    </tr>\n",
       "    <tr>\n",
       "      <th>4</th>\n",
       "      <td>5</td>\n",
       "      <td>15737888</td>\n",
       "      <td>Mitchell</td>\n",
       "      <td>850</td>\n",
       "      <td>Spain</td>\n",
       "      <td>Female</td>\n",
       "      <td>43</td>\n",
       "      <td>2.0</td>\n",
       "      <td>125510.82</td>\n",
       "      <td>1</td>\n",
       "      <td>1</td>\n",
       "      <td>1</td>\n",
       "      <td>79084.10</td>\n",
       "      <td>0</td>\n",
       "    </tr>\n",
       "    <tr>\n",
       "      <th>5</th>\n",
       "      <td>6</td>\n",
       "      <td>15574012</td>\n",
       "      <td>Chu</td>\n",
       "      <td>645</td>\n",
       "      <td>Spain</td>\n",
       "      <td>Male</td>\n",
       "      <td>44</td>\n",
       "      <td>8.0</td>\n",
       "      <td>113755.78</td>\n",
       "      <td>2</td>\n",
       "      <td>1</td>\n",
       "      <td>0</td>\n",
       "      <td>149756.71</td>\n",
       "      <td>1</td>\n",
       "    </tr>\n",
       "    <tr>\n",
       "      <th>6</th>\n",
       "      <td>7</td>\n",
       "      <td>15592531</td>\n",
       "      <td>Bartlett</td>\n",
       "      <td>822</td>\n",
       "      <td>France</td>\n",
       "      <td>Male</td>\n",
       "      <td>50</td>\n",
       "      <td>7.0</td>\n",
       "      <td>0.00</td>\n",
       "      <td>2</td>\n",
       "      <td>1</td>\n",
       "      <td>1</td>\n",
       "      <td>10062.80</td>\n",
       "      <td>0</td>\n",
       "    </tr>\n",
       "    <tr>\n",
       "      <th>7</th>\n",
       "      <td>8</td>\n",
       "      <td>15656148</td>\n",
       "      <td>Obinna</td>\n",
       "      <td>376</td>\n",
       "      <td>Germany</td>\n",
       "      <td>Female</td>\n",
       "      <td>29</td>\n",
       "      <td>4.0</td>\n",
       "      <td>115046.74</td>\n",
       "      <td>4</td>\n",
       "      <td>1</td>\n",
       "      <td>0</td>\n",
       "      <td>119346.88</td>\n",
       "      <td>1</td>\n",
       "    </tr>\n",
       "    <tr>\n",
       "      <th>8</th>\n",
       "      <td>9</td>\n",
       "      <td>15792365</td>\n",
       "      <td>He</td>\n",
       "      <td>501</td>\n",
       "      <td>France</td>\n",
       "      <td>Male</td>\n",
       "      <td>44</td>\n",
       "      <td>4.0</td>\n",
       "      <td>142051.07</td>\n",
       "      <td>2</td>\n",
       "      <td>0</td>\n",
       "      <td>1</td>\n",
       "      <td>74940.50</td>\n",
       "      <td>0</td>\n",
       "    </tr>\n",
       "    <tr>\n",
       "      <th>9</th>\n",
       "      <td>10</td>\n",
       "      <td>15592389</td>\n",
       "      <td>H?</td>\n",
       "      <td>684</td>\n",
       "      <td>France</td>\n",
       "      <td>Male</td>\n",
       "      <td>27</td>\n",
       "      <td>2.0</td>\n",
       "      <td>134603.88</td>\n",
       "      <td>1</td>\n",
       "      <td>1</td>\n",
       "      <td>1</td>\n",
       "      <td>71725.73</td>\n",
       "      <td>0</td>\n",
       "    </tr>\n",
       "  </tbody>\n",
       "</table>\n",
       "</div>"
      ],
      "text/plain": [
       "   RowNumber  CustomerId   Surname  CreditScore Geography  Gender  Age  \\\n",
       "0          1    15634602  Hargrave          619    France  Female   42   \n",
       "1          2    15647311      Hill          608     Spain  Female   41   \n",
       "2          3    15619304      Onio          502    France  Female   42   \n",
       "3          4    15701354      Boni          699    France  Female   39   \n",
       "4          5    15737888  Mitchell          850     Spain  Female   43   \n",
       "5          6    15574012       Chu          645     Spain    Male   44   \n",
       "6          7    15592531  Bartlett          822    France    Male   50   \n",
       "7          8    15656148    Obinna          376   Germany  Female   29   \n",
       "8          9    15792365        He          501    France    Male   44   \n",
       "9         10    15592389        H?          684    France    Male   27   \n",
       "\n",
       "   Tenure    Balance  NumOfProducts  HasCrCard  IsActiveMember  \\\n",
       "0     2.0       0.00              1          1               1   \n",
       "1     1.0   83807.86              1          0               1   \n",
       "2     8.0  159660.80              3          1               0   \n",
       "3     1.0       0.00              2          0               0   \n",
       "4     2.0  125510.82              1          1               1   \n",
       "5     8.0  113755.78              2          1               0   \n",
       "6     7.0       0.00              2          1               1   \n",
       "7     4.0  115046.74              4          1               0   \n",
       "8     4.0  142051.07              2          0               1   \n",
       "9     2.0  134603.88              1          1               1   \n",
       "\n",
       "   EstimatedSalary  Exited  \n",
       "0        101348.88       1  \n",
       "1        112542.58       0  \n",
       "2        113931.57       1  \n",
       "3         93826.63       0  \n",
       "4         79084.10       0  \n",
       "5        149756.71       1  \n",
       "6         10062.80       0  \n",
       "7        119346.88       1  \n",
       "8         74940.50       0  \n",
       "9         71725.73       0  "
      ]
     },
     "execution_count": 4,
     "metadata": {},
     "output_type": "execute_result"
    }
   ],
   "source": [
    "df.head(10)"
   ]
  },
  {
   "cell_type": "code",
   "execution_count": 5,
   "metadata": {},
   "outputs": [
    {
     "data": {
      "text/html": [
       "<div>\n",
       "<style scoped>\n",
       "    .dataframe tbody tr th:only-of-type {\n",
       "        vertical-align: middle;\n",
       "    }\n",
       "\n",
       "    .dataframe tbody tr th {\n",
       "        vertical-align: top;\n",
       "    }\n",
       "\n",
       "    .dataframe thead th {\n",
       "        text-align: right;\n",
       "    }\n",
       "</style>\n",
       "<table border=\"1\" class=\"dataframe\">\n",
       "  <thead>\n",
       "    <tr style=\"text-align: right;\">\n",
       "      <th></th>\n",
       "      <th>RowNumber</th>\n",
       "      <th>CustomerId</th>\n",
       "      <th>CreditScore</th>\n",
       "      <th>Age</th>\n",
       "      <th>Tenure</th>\n",
       "      <th>Balance</th>\n",
       "      <th>NumOfProducts</th>\n",
       "      <th>HasCrCard</th>\n",
       "      <th>IsActiveMember</th>\n",
       "      <th>EstimatedSalary</th>\n",
       "      <th>Exited</th>\n",
       "    </tr>\n",
       "  </thead>\n",
       "  <tbody>\n",
       "    <tr>\n",
       "      <th>count</th>\n",
       "      <td>10000.00000</td>\n",
       "      <td>1.000000e+04</td>\n",
       "      <td>10000.000000</td>\n",
       "      <td>10000.000000</td>\n",
       "      <td>9091.000000</td>\n",
       "      <td>10000.000000</td>\n",
       "      <td>10000.000000</td>\n",
       "      <td>10000.00000</td>\n",
       "      <td>10000.000000</td>\n",
       "      <td>10000.000000</td>\n",
       "      <td>10000.000000</td>\n",
       "    </tr>\n",
       "    <tr>\n",
       "      <th>mean</th>\n",
       "      <td>5000.50000</td>\n",
       "      <td>1.569094e+07</td>\n",
       "      <td>650.528800</td>\n",
       "      <td>38.921800</td>\n",
       "      <td>4.997690</td>\n",
       "      <td>76485.889288</td>\n",
       "      <td>1.530200</td>\n",
       "      <td>0.70550</td>\n",
       "      <td>0.515100</td>\n",
       "      <td>100090.239881</td>\n",
       "      <td>0.203700</td>\n",
       "    </tr>\n",
       "    <tr>\n",
       "      <th>std</th>\n",
       "      <td>2886.89568</td>\n",
       "      <td>7.193619e+04</td>\n",
       "      <td>96.653299</td>\n",
       "      <td>10.487806</td>\n",
       "      <td>2.894723</td>\n",
       "      <td>62397.405202</td>\n",
       "      <td>0.581654</td>\n",
       "      <td>0.45584</td>\n",
       "      <td>0.499797</td>\n",
       "      <td>57510.492818</td>\n",
       "      <td>0.402769</td>\n",
       "    </tr>\n",
       "    <tr>\n",
       "      <th>min</th>\n",
       "      <td>1.00000</td>\n",
       "      <td>1.556570e+07</td>\n",
       "      <td>350.000000</td>\n",
       "      <td>18.000000</td>\n",
       "      <td>0.000000</td>\n",
       "      <td>0.000000</td>\n",
       "      <td>1.000000</td>\n",
       "      <td>0.00000</td>\n",
       "      <td>0.000000</td>\n",
       "      <td>11.580000</td>\n",
       "      <td>0.000000</td>\n",
       "    </tr>\n",
       "    <tr>\n",
       "      <th>25%</th>\n",
       "      <td>2500.75000</td>\n",
       "      <td>1.562853e+07</td>\n",
       "      <td>584.000000</td>\n",
       "      <td>32.000000</td>\n",
       "      <td>2.000000</td>\n",
       "      <td>0.000000</td>\n",
       "      <td>1.000000</td>\n",
       "      <td>0.00000</td>\n",
       "      <td>0.000000</td>\n",
       "      <td>51002.110000</td>\n",
       "      <td>0.000000</td>\n",
       "    </tr>\n",
       "    <tr>\n",
       "      <th>50%</th>\n",
       "      <td>5000.50000</td>\n",
       "      <td>1.569074e+07</td>\n",
       "      <td>652.000000</td>\n",
       "      <td>37.000000</td>\n",
       "      <td>5.000000</td>\n",
       "      <td>97198.540000</td>\n",
       "      <td>1.000000</td>\n",
       "      <td>1.00000</td>\n",
       "      <td>1.000000</td>\n",
       "      <td>100193.915000</td>\n",
       "      <td>0.000000</td>\n",
       "    </tr>\n",
       "    <tr>\n",
       "      <th>75%</th>\n",
       "      <td>7500.25000</td>\n",
       "      <td>1.575323e+07</td>\n",
       "      <td>718.000000</td>\n",
       "      <td>44.000000</td>\n",
       "      <td>7.000000</td>\n",
       "      <td>127644.240000</td>\n",
       "      <td>2.000000</td>\n",
       "      <td>1.00000</td>\n",
       "      <td>1.000000</td>\n",
       "      <td>149388.247500</td>\n",
       "      <td>0.000000</td>\n",
       "    </tr>\n",
       "    <tr>\n",
       "      <th>max</th>\n",
       "      <td>10000.00000</td>\n",
       "      <td>1.581569e+07</td>\n",
       "      <td>850.000000</td>\n",
       "      <td>92.000000</td>\n",
       "      <td>10.000000</td>\n",
       "      <td>250898.090000</td>\n",
       "      <td>4.000000</td>\n",
       "      <td>1.00000</td>\n",
       "      <td>1.000000</td>\n",
       "      <td>199992.480000</td>\n",
       "      <td>1.000000</td>\n",
       "    </tr>\n",
       "  </tbody>\n",
       "</table>\n",
       "</div>"
      ],
      "text/plain": [
       "         RowNumber    CustomerId   CreditScore           Age       Tenure  \\\n",
       "count  10000.00000  1.000000e+04  10000.000000  10000.000000  9091.000000   \n",
       "mean    5000.50000  1.569094e+07    650.528800     38.921800     4.997690   \n",
       "std     2886.89568  7.193619e+04     96.653299     10.487806     2.894723   \n",
       "min        1.00000  1.556570e+07    350.000000     18.000000     0.000000   \n",
       "25%     2500.75000  1.562853e+07    584.000000     32.000000     2.000000   \n",
       "50%     5000.50000  1.569074e+07    652.000000     37.000000     5.000000   \n",
       "75%     7500.25000  1.575323e+07    718.000000     44.000000     7.000000   \n",
       "max    10000.00000  1.581569e+07    850.000000     92.000000    10.000000   \n",
       "\n",
       "             Balance  NumOfProducts    HasCrCard  IsActiveMember  \\\n",
       "count   10000.000000   10000.000000  10000.00000    10000.000000   \n",
       "mean    76485.889288       1.530200      0.70550        0.515100   \n",
       "std     62397.405202       0.581654      0.45584        0.499797   \n",
       "min         0.000000       1.000000      0.00000        0.000000   \n",
       "25%         0.000000       1.000000      0.00000        0.000000   \n",
       "50%     97198.540000       1.000000      1.00000        1.000000   \n",
       "75%    127644.240000       2.000000      1.00000        1.000000   \n",
       "max    250898.090000       4.000000      1.00000        1.000000   \n",
       "\n",
       "       EstimatedSalary        Exited  \n",
       "count     10000.000000  10000.000000  \n",
       "mean     100090.239881      0.203700  \n",
       "std       57510.492818      0.402769  \n",
       "min          11.580000      0.000000  \n",
       "25%       51002.110000      0.000000  \n",
       "50%      100193.915000      0.000000  \n",
       "75%      149388.247500      0.000000  \n",
       "max      199992.480000      1.000000  "
      ]
     },
     "execution_count": 5,
     "metadata": {},
     "output_type": "execute_result"
    }
   ],
   "source": [
    "df.describe()"
   ]
  },
  {
   "cell_type": "code",
   "execution_count": 6,
   "metadata": {},
   "outputs": [
    {
     "data": {
      "text/plain": [
       "array(['France', 'Spain', 'Germany'], dtype=object)"
      ]
     },
     "execution_count": 6,
     "metadata": {},
     "output_type": "execute_result"
    }
   ],
   "source": [
    "df['Geography'].unique()"
   ]
  },
  {
   "cell_type": "code",
   "execution_count": 7,
   "metadata": {},
   "outputs": [
    {
     "data": {
      "text/plain": [
       "array(['Female', 'Male'], dtype=object)"
      ]
     },
     "execution_count": 7,
     "metadata": {},
     "output_type": "execute_result"
    }
   ],
   "source": [
    "df['Gender'].unique()"
   ]
  },
  {
   "cell_type": "markdown",
   "metadata": {},
   "source": [
    "**Дейсвия по признаком:** \n",
    "- RowNumber — уникальное поля для нумерации строк, для анализа и обучения модели не потребуется; \n",
    "- CustomerId — для анализа и обучения модели не потребуется;\n",
    "- Surname — для анализа и обучения модели не потребуется;\n",
    "- CreditScore —  количественные переменная, проведем стандартизацию данных; \n",
    "- Geography — категориальная переменная (3 значения), применим технику прямого кодирования(OHE); \n",
    "- Gender —  категориальная переменная (2 значения), применим технику прямого кодирования(OHE);\n",
    "- Age — количественные переменная, проведем стандартизацию данных, аномалий нет;\n",
    "- Tenure — количественные переменная, проведем стандартизацию данных, но перед этим заполним пропуски терять 9% данных не хочется, заполним медианами;\n",
    "- Balance — количественные переменная, проведем стандартизацию данных;\n",
    "- NumOfProducts — количественные переменная, проведем стандартизацию данных;\n",
    "- HasCrCard — категориальная переменная (0 и 1 значения), проводить технику прямого кодирования(OHE) нецелесообразно, уже числовые; \n",
    "- IsActiveMember — категориальная переменная (0 и 1 значения), проводить технику прямого кодирования(OHE) нецелесообразно, уже числовые;\n",
    "- EstimatedSalary — количественные переменная, проведем стандартизацию данных;\n",
    "- Exited — целевой параметр."
   ]
  },
  {
   "cell_type": "code",
   "execution_count": 8,
   "metadata": {},
   "outputs": [],
   "source": [
    "df = df.drop(['RowNumber', 'CustomerId', 'Surname'], axis=1) #  убираем лишнее"
   ]
  },
  {
   "cell_type": "code",
   "execution_count": 9,
   "metadata": {},
   "outputs": [],
   "source": [
    "df['Tenure'] = df['Tenure'].fillna(df['Tenure'].median()) # заполняем пропуски"
   ]
  },
  {
   "cell_type": "code",
   "execution_count": 10,
   "metadata": {},
   "outputs": [
    {
     "name": "stdout",
     "output_type": "stream",
     "text": [
      "<class 'pandas.core.frame.DataFrame'>\n",
      "RangeIndex: 10000 entries, 0 to 9999\n",
      "Data columns (total 11 columns):\n",
      " #   Column           Non-Null Count  Dtype  \n",
      "---  ------           --------------  -----  \n",
      " 0   CreditScore      10000 non-null  int64  \n",
      " 1   Geography        10000 non-null  object \n",
      " 2   Gender           10000 non-null  object \n",
      " 3   Age              10000 non-null  int64  \n",
      " 4   Tenure           10000 non-null  float64\n",
      " 5   Balance          10000 non-null  float64\n",
      " 6   NumOfProducts    10000 non-null  int64  \n",
      " 7   HasCrCard        10000 non-null  int64  \n",
      " 8   IsActiveMember   10000 non-null  int64  \n",
      " 9   EstimatedSalary  10000 non-null  float64\n",
      " 10  Exited           10000 non-null  int64  \n",
      "dtypes: float64(3), int64(6), object(2)\n",
      "memory usage: 859.5+ KB\n"
     ]
    }
   ],
   "source": [
    "df.info()"
   ]
  },
  {
   "cell_type": "code",
   "execution_count": 11,
   "metadata": {},
   "outputs": [],
   "source": [
    "df_ohe = pd.get_dummies( # OHE двух признаков\n",
    "    df,\n",
    "    drop_first=True,\n",
    "    columns=['Gender', 'Geography']\n",
    ")"
   ]
  },
  {
   "cell_type": "code",
   "execution_count": 12,
   "metadata": {},
   "outputs": [
    {
     "data": {
      "text/html": [
       "<div>\n",
       "<style scoped>\n",
       "    .dataframe tbody tr th:only-of-type {\n",
       "        vertical-align: middle;\n",
       "    }\n",
       "\n",
       "    .dataframe tbody tr th {\n",
       "        vertical-align: top;\n",
       "    }\n",
       "\n",
       "    .dataframe thead th {\n",
       "        text-align: right;\n",
       "    }\n",
       "</style>\n",
       "<table border=\"1\" class=\"dataframe\">\n",
       "  <thead>\n",
       "    <tr style=\"text-align: right;\">\n",
       "      <th></th>\n",
       "      <th>CreditScore</th>\n",
       "      <th>Age</th>\n",
       "      <th>Tenure</th>\n",
       "      <th>Balance</th>\n",
       "      <th>NumOfProducts</th>\n",
       "      <th>HasCrCard</th>\n",
       "      <th>IsActiveMember</th>\n",
       "      <th>EstimatedSalary</th>\n",
       "      <th>Exited</th>\n",
       "      <th>Gender_Male</th>\n",
       "      <th>Geography_Germany</th>\n",
       "      <th>Geography_Spain</th>\n",
       "    </tr>\n",
       "  </thead>\n",
       "  <tbody>\n",
       "    <tr>\n",
       "      <th>0</th>\n",
       "      <td>619</td>\n",
       "      <td>42</td>\n",
       "      <td>2.0</td>\n",
       "      <td>0.00</td>\n",
       "      <td>1</td>\n",
       "      <td>1</td>\n",
       "      <td>1</td>\n",
       "      <td>101348.88</td>\n",
       "      <td>1</td>\n",
       "      <td>0</td>\n",
       "      <td>0</td>\n",
       "      <td>0</td>\n",
       "    </tr>\n",
       "    <tr>\n",
       "      <th>1</th>\n",
       "      <td>608</td>\n",
       "      <td>41</td>\n",
       "      <td>1.0</td>\n",
       "      <td>83807.86</td>\n",
       "      <td>1</td>\n",
       "      <td>0</td>\n",
       "      <td>1</td>\n",
       "      <td>112542.58</td>\n",
       "      <td>0</td>\n",
       "      <td>0</td>\n",
       "      <td>0</td>\n",
       "      <td>1</td>\n",
       "    </tr>\n",
       "    <tr>\n",
       "      <th>2</th>\n",
       "      <td>502</td>\n",
       "      <td>42</td>\n",
       "      <td>8.0</td>\n",
       "      <td>159660.80</td>\n",
       "      <td>3</td>\n",
       "      <td>1</td>\n",
       "      <td>0</td>\n",
       "      <td>113931.57</td>\n",
       "      <td>1</td>\n",
       "      <td>0</td>\n",
       "      <td>0</td>\n",
       "      <td>0</td>\n",
       "    </tr>\n",
       "    <tr>\n",
       "      <th>3</th>\n",
       "      <td>699</td>\n",
       "      <td>39</td>\n",
       "      <td>1.0</td>\n",
       "      <td>0.00</td>\n",
       "      <td>2</td>\n",
       "      <td>0</td>\n",
       "      <td>0</td>\n",
       "      <td>93826.63</td>\n",
       "      <td>0</td>\n",
       "      <td>0</td>\n",
       "      <td>0</td>\n",
       "      <td>0</td>\n",
       "    </tr>\n",
       "    <tr>\n",
       "      <th>4</th>\n",
       "      <td>850</td>\n",
       "      <td>43</td>\n",
       "      <td>2.0</td>\n",
       "      <td>125510.82</td>\n",
       "      <td>1</td>\n",
       "      <td>1</td>\n",
       "      <td>1</td>\n",
       "      <td>79084.10</td>\n",
       "      <td>0</td>\n",
       "      <td>0</td>\n",
       "      <td>0</td>\n",
       "      <td>1</td>\n",
       "    </tr>\n",
       "  </tbody>\n",
       "</table>\n",
       "</div>"
      ],
      "text/plain": [
       "   CreditScore  Age  Tenure    Balance  NumOfProducts  HasCrCard  \\\n",
       "0          619   42     2.0       0.00              1          1   \n",
       "1          608   41     1.0   83807.86              1          0   \n",
       "2          502   42     8.0  159660.80              3          1   \n",
       "3          699   39     1.0       0.00              2          0   \n",
       "4          850   43     2.0  125510.82              1          1   \n",
       "\n",
       "   IsActiveMember  EstimatedSalary  Exited  Gender_Male  Geography_Germany  \\\n",
       "0               1        101348.88       1            0                  0   \n",
       "1               1        112542.58       0            0                  0   \n",
       "2               0        113931.57       1            0                  0   \n",
       "3               0         93826.63       0            0                  0   \n",
       "4               1         79084.10       0            0                  0   \n",
       "\n",
       "   Geography_Spain  \n",
       "0                0  \n",
       "1                1  \n",
       "2                0  \n",
       "3                0  \n",
       "4                1  "
      ]
     },
     "execution_count": 12,
     "metadata": {},
     "output_type": "execute_result"
    }
   ],
   "source": [
    "df_ohe.head()"
   ]
  },
  {
   "cell_type": "code",
   "execution_count": 13,
   "metadata": {},
   "outputs": [],
   "source": [
    "# переменные для признаков и целевого признака \n",
    "target = df_ohe['Exited']\n",
    "features = df_ohe.drop(['Exited'] , axis=1)"
   ]
  },
  {
   "cell_type": "code",
   "execution_count": 14,
   "metadata": {},
   "outputs": [],
   "source": [
    "# разбиение на обучающую данные .6 и.4 для валидации и тестирования \n",
    "features_train, features_temp, target_train, target_temp = train_test_split(\n",
    "    features,\n",
    "    target, \n",
    "    test_size=0.4, \n",
    "    random_state=12345,\n",
    "    shuffle=True,\n",
    "    stratify=target\n",
    ")"
   ]
  },
  {
   "cell_type": "code",
   "execution_count": 15,
   "metadata": {},
   "outputs": [],
   "source": [
    "# разбиение на данные для валидацию и тестирование по .5 (.2 по изначальной)\n",
    "features_valid, features_test, target_valid, target_test = train_test_split(\n",
    "    features_temp,\n",
    "    target_temp, \n",
    "    test_size=0.5, \n",
    "    random_state=12345,\n",
    "    shuffle=True,\n",
    "    stratify=target_temp\n",
    ")"
   ]
  },
  {
   "cell_type": "code",
   "execution_count": 16,
   "metadata": {},
   "outputs": [
    {
     "name": "stdout",
     "output_type": "stream",
     "text": [
      "(6000, 11)\n",
      "(6000,)\n",
      "(2000, 11)\n",
      "(2000,)\n",
      "(2000, 11)\n",
      "(2000,)\n"
     ]
    }
   ],
   "source": [
    "print(features_train.shape)\n",
    "print(target_train.shape)\n",
    "print(features_valid.shape)\n",
    "print(target_valid.shape)\n",
    "print(features_test.shape)\n",
    "print(target_test.shape)"
   ]
  },
  {
   "cell_type": "code",
   "execution_count": 17,
   "metadata": {},
   "outputs": [],
   "source": [
    "# стандартизация данных\n",
    "pd.options.mode.chained_assignment = None\n",
    "\n",
    "numeric = ['CreditScore', 'Age', 'Tenure', 'NumOfProducts', 'Balance', 'EstimatedSalary']\n",
    "\n",
    "scaler = StandardScaler()\n",
    "scaler.fit(features_train[numeric])\n",
    "features_train[numeric] = scaler.transform(features_train[numeric])\n",
    "features_valid[numeric] = scaler.transform(features_valid[numeric])\n",
    "features_test[numeric] = scaler.transform(features_test[numeric])"
   ]
  },
  {
   "cell_type": "markdown",
   "metadata": {},
   "source": [
    "## Исследование задачи"
   ]
  },
  {
   "cell_type": "code",
   "execution_count": 18,
   "metadata": {},
   "outputs": [
    {
     "data": {
      "text/plain": [
       "0    0.7963\n",
       "1    0.2037\n",
       "Name: Exited, dtype: float64"
      ]
     },
     "execution_count": 18,
     "metadata": {},
     "output_type": "execute_result"
    }
   ],
   "source": [
    "df['Exited'].value_counts(normalize=True) # баланс классов "
   ]
  },
  {
   "cell_type": "markdown",
   "metadata": {},
   "source": [
    "80/20 - прям по Парето "
   ]
  },
  {
   "cell_type": "code",
   "execution_count": 19,
   "metadata": {},
   "outputs": [
    {
     "data": {
      "text/plain": [
       "LogisticRegression(random_state=12345, solver='liblinear')"
      ]
     },
     "execution_count": 19,
     "metadata": {},
     "output_type": "execute_result"
    }
   ],
   "source": [
    "model = LogisticRegression(random_state=12345, solver='liblinear') # обучение модели логистической регресии без учета дисбаланса\n",
    "model.fit(features_train, target_train)"
   ]
  },
  {
   "cell_type": "code",
   "execution_count": 20,
   "metadata": {},
   "outputs": [],
   "source": [
    "# функция для вывода значений Precision, Recall, F1-мера, AUC-ROC по обученной модели\n",
    "# со следующими параметрами:\n",
    "#    - значения признаков;\n",
    "#    - значения целевого признака;\n",
    "#    - обученная модель. \n",
    "\n",
    "def print_metrics(features, target, model): #\n",
    "    \n",
    "    predicted = model.predict(features)\n",
    "    probabilities = model.predict_proba(features) \n",
    "    probabilities_one = probabilities[:, 1]\n",
    "    print(f'Precision: {precision_score(target, predicted):.3f}')\n",
    "    print(f'Recall: {recall_score(target, predicted):.3f}')\n",
    "    print(f'F1-мера: {f1_score(target, predicted):.3f}')\n",
    "    print(f'AUC-ROC: {roc_auc_score(target, probabilities_one): .3f}')"
   ]
  },
  {
   "cell_type": "code",
   "execution_count": 21,
   "metadata": {},
   "outputs": [
    {
     "name": "stdout",
     "output_type": "stream",
     "text": [
      "Precision: 0.609\n",
      "Recall: 0.206\n",
      "F1-мера: 0.308\n",
      "AUC-ROC:  0.788\n"
     ]
    }
   ],
   "source": [
    "# метрики логистической регрессии без учета баланса классов \n",
    "\n",
    "print_metrics(features_valid, target_valid, model) "
   ]
  },
  {
   "cell_type": "markdown",
   "metadata": {},
   "source": [
    "**Выводы**\n",
    "\n",
    "1. Наблюдается дисбаланс классов, он 80/20, 80 – остаются, 20 – уходят.\n",
    "2. Обучения без учета дисбаланса дало неудовлетворительный результат, т.к нам необходимо выявлять тех клиентов, что планируют уйти. То интересует в большей степени показатель recall, а он составляет 0.2, модель обнаруживает всего 20% от общего числа уходящих. "
   ]
  },
  {
   "cell_type": "markdown",
   "metadata": {},
   "source": [
    "## Борьба с дисбалансом"
   ]
  },
  {
   "cell_type": "markdown",
   "metadata": {},
   "source": [
    "### Изменение порога"
   ]
  },
  {
   "cell_type": "code",
   "execution_count": 22,
   "metadata": {},
   "outputs": [
    {
     "name": "stdout",
     "output_type": "stream",
     "text": [
      "Порог = 0.00 | Точность = 0.204, Полнота = 1.000, f1 = 0.339\n",
      "Порог = 0.05 | Точность = 0.226, Полнота = 0.988, f1 = 0.368\n",
      "Порог = 0.10 | Точность = 0.276, Полнота = 0.929, f1 = 0.426\n",
      "Порог = 0.15 | Точность = 0.333, Полнота = 0.836, f1 = 0.476\n",
      "Порог = 0.20 | Точность = 0.387, Полнота = 0.733, f1 = 0.506\n",
      "Порог = 0.25 | Точность = 0.435, Полнота = 0.640, f1 = 0.518\n",
      "Порог = 0.30 | Точность = 0.483, Полнота = 0.529, f1 = 0.505\n",
      "Порог = 0.35 | Точность = 0.520, Полнота = 0.414, f1 = 0.461\n",
      "Порог = 0.40 | Точность = 0.545, Полнота = 0.353, f1 = 0.429\n",
      "Порог = 0.45 | Точность = 0.544, Полнота = 0.257, f1 = 0.349\n",
      "Порог = 0.50 | Точность = 0.609, Полнота = 0.206, f1 = 0.308\n"
     ]
    }
   ],
   "source": [
    "# изменение порога\n",
    "probabilities_valid = model.predict_proba(features_valid) \n",
    "probabilities_one_valid = probabilities_valid[:, 1]\n",
    "\n",
    "for threshold in np.arange(0, 0.55, 0.05): # цикл со смещением порога\n",
    "    predicted_valid = probabilities_one_valid > threshold  # \n",
    "    precision = precision_score(target_valid, predicted_valid) \n",
    "    recall = recall_score(target_valid, predicted_valid)\n",
    "    f1 = f1_score(target_valid, predicted_valid)\n",
    "    print(f'Порог = {threshold:.2f} | Точность = { precision:.3f}, Полнота = {recall:.3f}, f1 = {f1:.3f}')"
   ]
  },
  {
   "cell_type": "code",
   "execution_count": 23,
   "metadata": {},
   "outputs": [
    {
     "data": {
      "image/png": "[encoded data removed]",
      "text/plain": [
       "<Figure size 432x432 with 1 Axes>"
      ]
     },
     "metadata": {
      "needs_background": "light"
     },
     "output_type": "display_data"
    }
   ],
   "source": [
    "# построение кривой ROC\n",
    "\n",
    "probabilities_valid = model.predict_proba(features_valid)\n",
    "precision, recall, thresholds = precision_recall_curve(target_valid, probabilities_valid[:, 1])\n",
    "\n",
    "plt.figure(figsize=(6, 6))\n",
    "plt.step(recall, precision, where='post')\n",
    "plt.xlabel('Recall')\n",
    "plt.ylabel('Precision')\n",
    "plt.ylim([0.0, 1.05])\n",
    "plt.xlim([0.0, 1.0])\n",
    "plt.title('Кривая Precision-Recall')\n",
    "plt.show() "
   ]
  },
  {
   "cell_type": "markdown",
   "metadata": {},
   "source": [
    "### Увеличение выборки"
   ]
  },
  {
   "cell_type": "code",
   "execution_count": 24,
   "metadata": {},
   "outputs": [],
   "source": [
    "# функция для увеличения количества записей по классу \"1\"\n",
    "# со следующими параметрами:\n",
    "#    - значения признаков;\n",
    "#    - значения целевого признака;\n",
    "#    - коэффициент увлечения.\n",
    "\n",
    "\n",
    "def upsample(features, target, repeat): \n",
    "\n",
    "    features_zeros = features_train[target_train == 0]\n",
    "    features_ones = features_train[target_train == 1]\n",
    "    target_zeros = target_train[target_train == 0]\n",
    "    target_ones = target_train[target_train == 1]\n",
    "    features_upsampled = pd.concat([features_zeros] + [features_ones] * repeat)\n",
    "    target_upsampled = pd.concat([target_zeros] + [target_ones] * repeat)\n",
    "    \n",
    "    # перемешиваем и возвращаем\n",
    "    return shuffle(features_upsampled, random_state=12345), shuffle(target_upsampled, random_state=12345) "
   ]
  },
  {
   "cell_type": "code",
   "execution_count": 25,
   "metadata": {},
   "outputs": [],
   "source": [
    "features_upsampled, target_upsampled = upsample(features_train, target_train, 4) # модифицируем тренировочную выборку "
   ]
  },
  {
   "cell_type": "code",
   "execution_count": 26,
   "metadata": {},
   "outputs": [
    {
     "data": {
      "text/plain": [
       "LogisticRegression(random_state=12345, solver='liblinear')"
      ]
     },
     "execution_count": 26,
     "metadata": {},
     "output_type": "execute_result"
    }
   ],
   "source": [
    "model = LogisticRegression(random_state=12345, solver='liblinear') # обучаем модель\n",
    "model.fit(features_upsampled, target_upsampled)"
   ]
  },
  {
   "cell_type": "code",
   "execution_count": 27,
   "metadata": {},
   "outputs": [
    {
     "name": "stdout",
     "output_type": "stream",
     "text": [
      "Precision: 0.406\n",
      "Recall: 0.743\n",
      "F1-мера: 0.525\n",
      "AUC-ROC:  0.794\n"
     ]
    }
   ],
   "source": [
    "# метрики логистической регрессии с учетом баланса классов \n",
    "\n",
    "print_metrics(features_valid, target_valid, model)  #"
   ]
  },
  {
   "cell_type": "markdown",
   "metadata": {},
   "source": [
    "### Взвешивание классов"
   ]
  },
  {
   "cell_type": "code",
   "execution_count": 28,
   "metadata": {},
   "outputs": [
    {
     "data": {
      "text/plain": [
       "LogisticRegression(class_weight='balanced', random_state=12345,\n",
       "                   solver='liblinear')"
      ]
     },
     "execution_count": 28,
     "metadata": {},
     "output_type": "execute_result"
    }
   ],
   "source": [
    "model = LogisticRegression(random_state=12345, solver='liblinear', class_weight='balanced')  # обучаем модель\n",
    "model.fit(features_train, target_train)"
   ]
  },
  {
   "cell_type": "code",
   "execution_count": 29,
   "metadata": {
    "scrolled": true
   },
   "outputs": [
    {
     "name": "stdout",
     "output_type": "stream",
     "text": [
      "Precision: 0.412\n",
      "Recall: 0.738\n",
      "F1-мера: 0.529\n",
      "AUC-ROC:  0.794\n"
     ]
    }
   ],
   "source": [
    "# метрики логистической регрессии с учетом баланса классов \n",
    "print_metrics(features_valid, target_valid, model)"
   ]
  },
  {
   "cell_type": "markdown",
   "metadata": {},
   "source": [
    "### Kлассификатор дерева решений"
   ]
  },
  {
   "cell_type": "code",
   "execution_count": 30,
   "metadata": {},
   "outputs": [
    {
     "name": "stdout",
     "output_type": "stream",
     "text": [
      "F1 лучшей модели дерьвья решений: 0.5612 Глубина: 16 Максимальное число признаков: 2\n"
     ]
    }
   ],
   "source": [
    "tree_best_model = None\n",
    "best_result = 0\n",
    "best_feature = 0\n",
    "best_depth = 0\n",
    "\n",
    "for depth in [4, 8, 16]:\n",
    "    for feature in [2, 3, 4, 5]:\n",
    "        model = DecisionTreeClassifier(random_state=12345, max_depth=depth, max_features=feature, class_weight='balanced') # задать глубинуи дерева\n",
    "        model.fit(features_train, target_train) # обучите модель с заданной глубиной дерева\n",
    "        predicted_valid = model.predict(features_valid)\n",
    "        result = f1_score(target_valid, predicted_valid) # посчитайте качество модели\n",
    "        if result > best_result:\n",
    "            tree_best_model = model # сохраним модель для тестирования\n",
    "            best_result = result\n",
    "            best_feature = feature\n",
    "            best_depth = depth\n",
    "            \n",
    "print(f'F1 лучшей модели дерьвья решений: {best_result:.4} Глубина: {depth} Максимальное число признаков: {best_feature}')"
   ]
  },
  {
   "cell_type": "code",
   "execution_count": 31,
   "metadata": {},
   "outputs": [
    {
     "name": "stdout",
     "output_type": "stream",
     "text": [
      "Precision: 0.465\n",
      "Recall: 0.708\n",
      "F1-мера: 0.561\n",
      "AUC-ROC:  0.798\n"
     ]
    }
   ],
   "source": [
    "print_metrics(features_valid, target_valid, tree_best_model)"
   ]
  },
  {
   "cell_type": "markdown",
   "metadata": {},
   "source": [
    "### Kлассификатор случайный лес (лучшая модель)"
   ]
  },
  {
   "cell_type": "code",
   "execution_count": 32,
   "metadata": {},
   "outputs": [
    {
     "name": "stdout",
     "output_type": "stream",
     "text": [
      "F1 лучшей модели случайного леса: 0.6471 Количество деревьев:60 Максимальная глубина: 9\n",
      "Wall time: 2.49 s\n"
     ]
    }
   ],
   "source": [
    "%%time\n",
    "\n",
    "forest_best_model = None\n",
    "best_result = 0\n",
    "best_est = 0\n",
    "best_depth = 0\n",
    "f1_depth_list = []\n",
    "roc_auc_depth_list = []\n",
    "f1_est_list = []\n",
    "roc_auc_est_list = []\n",
    "\n",
    "# поиск оптимальной глубины дерева на малом лесе \n",
    "for depth in range(1, 16): \n",
    "        model = RandomForestClassifier(random_state=12345, n_estimators=20, max_depth=depth, class_weight='balanced') \n",
    "        model.fit(features_train, target_train) # обучите модель на тренировочной выборке\n",
    "        predicted_valid = model.predict(features_valid)\n",
    "        probabilities_valid = model.predict_proba(features_valid) \n",
    "        probabilities_one_valid = probabilities_valid[:, 1]\n",
    "        result = f1_score(target_valid, predicted_valid) # посчитайте качество модели на валидационной выборке\n",
    "        roc_auc_depth_list.append(roc_auc_score(target_valid, probabilities_one_valid))\n",
    "        f1_depth_list.append(result)\n",
    "        if result > best_result:\n",
    "            best_depth = depth\n",
    "            best_result = result\n",
    "\n",
    "best_result = 0\n",
    "\n",
    "# поиск оптимальной модели в зависимости от размера леса\n",
    "for est in range(60, 101, 10): # количество деревьев\n",
    "    model = RandomForestClassifier(random_state=12345, n_estimators=est, max_depth=best_depth, class_weight='balanced') \n",
    "    model.fit(features_train, target_train) # обучите модель на тренировочной выборке\n",
    "    predicted_valid = model.predict(features_valid)\n",
    "    probabilities_valid = model.predict_proba(features_valid) \n",
    "    probabilities_one_valid = probabilities_valid[:, 1]\n",
    "    result = f1_score(target_valid, predicted_valid) # посчитайте качество модели на валидационной выборке\n",
    "    roc_auc_est_list.append(roc_auc_score(target_valid, probabilities_one_valid))\n",
    "    f1_est_list.append(result)\n",
    "    if result > best_result:\n",
    "        forest_best_model = model # сохраним модель для тестирования\n",
    "        best_result = result \n",
    "        best_est = est\n",
    "            \n",
    "print(f'F1 лучшей модели случайного леса: {best_result:.4} Количество деревьев:{best_est} Максимальная глубина: {best_depth}')            "
   ]
  },
  {
   "cell_type": "code",
   "execution_count": 33,
   "metadata": {},
   "outputs": [
    {
     "data": {
      "image/png": "[encoded data removed]",
      "text/plain": [
       "<Figure size 648x648 with 1 Axes>"
      ]
     },
     "metadata": {
      "needs_background": "light"
     },
     "output_type": "display_data"
    }
   ],
   "source": [
    "fig, ax = plt.subplots(figsize=(9, 9))\n",
    "ax.plot(range(1, 16), f1_depth_list)\n",
    "ax.plot(range(1, 16), roc_auc_depth_list)\n",
    "plt.title('Зависимость F1-меры и AUC-ROС от глубины дерева', fontsize=20)\n",
    "ax.xaxis.set_major_locator(ticker.MultipleLocator(1))\n",
    "plt.grid(True)\n",
    "plt.xlabel('Максимальная глубина дерева',  fontsize=12)\n",
    "plt.legend(['F1-мера', 'AUC-ROС'])\n",
    "plt.grid(True)\n",
    "plt.show()"
   ]
  },
  {
   "cell_type": "markdown",
   "metadata": {},
   "source": [
    "### Выводы"
   ]
  },
  {
   "cell_type": "markdown",
   "metadata": {},
   "source": [
    "1. Балансировка классов в рамках логистической регрессии, если рассматривать метрику AUC-ROC, сильных изменения не дала.\n",
    "2. Изменение порога наглядно демонстрирует, что за счет различных методов балансировки, происходит движения по кривой-PR и находится оптимальное баланс между Precision и Recall, но качество модели остается не именным.\n",
    "3. Для качественного перехода, был выбран другой тип модели \"Случайный Лес\" подобраны гиперпараметры. Выбор нового типа дало хороший прирост и позволило решить задачу.\n",
    "4. Из графика видно, что между F1-мерой и AUC-ROC прослеживается зависимость, хотя если опираться на AUC-ROC то оптимальную модель можно, было бы поискать при значении - максимальной глубины дерева 6-8.    "
   ]
  },
  {
   "cell_type": "markdown",
   "metadata": {},
   "source": [
    "## Тестирование модели"
   ]
  },
  {
   "cell_type": "code",
   "execution_count": 34,
   "metadata": {},
   "outputs": [
    {
     "name": "stdout",
     "output_type": "stream",
     "text": [
      "Precision: 0.575\n",
      "Recall: 0.629\n",
      "F1-мера: 0.601\n",
      "AUC-ROC:  0.849\n"
     ]
    }
   ],
   "source": [
    "# окончательный результат\n",
    "print_metrics(features_test, target_test, forest_best_model)"
   ]
  },
  {
   "cell_type": "code",
   "execution_count": 35,
   "metadata": {},
   "outputs": [
    {
     "data": {
      "image/png": "[encoded data removed]",
      "text/plain": [
       "<Figure size 648x648 with 1 Axes>"
      ]
     },
     "metadata": {
      "needs_background": "light"
     },
     "output_type": "display_data"
    }
   ],
   "source": [
    "probabilities_test = forest_best_model.predict_proba(features_test)\n",
    "fpr, tpr, thresholds = roc_curve(target_test, probabilities_test[:, 1]) \n",
    "\n",
    "plt.figure(figsize=(9, 9))\n",
    "\n",
    "# < постройте график >\n",
    "\n",
    "plt.plot([0, 1], [0, 1], linestyle='--') # ROC-кривая случайной модели \n",
    "plt.plot(fpr, tpr)\n",
    "plt.xlim([0.0, 1.0])\n",
    "plt.ylim([0.0, 1.0])\n",
    "plt.xlabel('False Positive Rate')\n",
    "plt.ylabel('True Positive Rate')\n",
    "plt.title('ROC-кривая')\n",
    "plt.grid(True)\n",
    "plt.show()"
   ]
  },
  {
   "cell_type": "markdown",
   "metadata": {},
   "source": [
    "**Вывод**\n",
    "- Значение AUC-ROC 0.854, означит что модель верно упорядочивает 85,4 % пар наших объектов;\n",
    "- Кривая хоть и чуть сильнее, но стремится к точке (0,1);\n",
    "- Кривая значительно выше кривой случайной модели. "
   ]
  }
 ],
 "metadata": {
  "ExecuteTimeLog": [
   {
    "duration": 10,
    "start_time": "2022-05-24T15:37:38.729Z"
   },
   {
    "duration": 5,
    "start_time": "2022-05-24T15:40:47.324Z"
   },
   {
    "duration": 229,
    "start_time": "2022-05-24T15:41:31.947Z"
   },
   {
    "duration": 14,
    "start_time": "2022-05-24T15:42:00.833Z"
   },
   {
    "duration": 18,
    "start_time": "2022-05-24T15:43:28.209Z"
   },
   {
    "duration": 43,
    "start_time": "2022-05-24T15:44:23.322Z"
   },
   {
    "duration": 5,
    "start_time": "2022-05-24T15:49:02.230Z"
   },
   {
    "duration": 117,
    "start_time": "2022-05-24T15:49:26.027Z"
   },
   {
    "duration": 10,
    "start_time": "2022-05-24T15:49:30.902Z"
   },
   {
    "duration": 5,
    "start_time": "2022-05-24T15:51:35.054Z"
   },
   {
    "duration": 5,
    "start_time": "2022-05-24T15:59:07.051Z"
   },
   {
    "duration": 4,
    "start_time": "2022-05-24T16:10:48.296Z"
   },
   {
    "duration": 15,
    "start_time": "2022-05-24T16:10:58.383Z"
   },
   {
    "duration": 5,
    "start_time": "2022-05-24T16:12:34.410Z"
   },
   {
    "duration": 10,
    "start_time": "2022-05-24T16:12:36.160Z"
   },
   {
    "duration": 10,
    "start_time": "2022-05-24T16:15:22.254Z"
   },
   {
    "duration": 13,
    "start_time": "2022-05-24T16:15:36.091Z"
   },
   {
    "duration": 13,
    "start_time": "2022-05-24T16:16:54.185Z"
   },
   {
    "duration": 3,
    "start_time": "2022-05-24T16:21:40.166Z"
   },
   {
    "duration": 6,
    "start_time": "2022-05-24T16:25:02.830Z"
   },
   {
    "duration": 9,
    "start_time": "2022-05-24T16:25:33.251Z"
   },
   {
    "duration": 7,
    "start_time": "2022-05-24T16:26:10.450Z"
   },
   {
    "duration": 19,
    "start_time": "2022-05-24T16:26:11.798Z"
   },
   {
    "duration": 4,
    "start_time": "2022-05-24T16:27:12.269Z"
   },
   {
    "duration": 22,
    "start_time": "2022-05-24T16:28:23.381Z"
   },
   {
    "duration": 25,
    "start_time": "2022-05-24T16:29:08.132Z"
   },
   {
    "duration": 4,
    "start_time": "2022-05-24T16:30:30.433Z"
   },
   {
    "duration": 579,
    "start_time": "2022-05-24T16:30:40.637Z"
   },
   {
    "duration": 43,
    "start_time": "2022-05-24T16:32:08.523Z"
   },
   {
    "duration": 25,
    "start_time": "2022-05-24T16:32:13.937Z"
   },
   {
    "duration": 23,
    "start_time": "2022-05-24T16:33:39.327Z"
   },
   {
    "duration": 27,
    "start_time": "2022-05-24T16:35:01.802Z"
   },
   {
    "duration": 20,
    "start_time": "2022-05-24T16:35:27.661Z"
   },
   {
    "duration": 21,
    "start_time": "2022-05-24T16:36:00.551Z"
   },
   {
    "duration": 16,
    "start_time": "2022-05-24T16:38:09.618Z"
   },
   {
    "duration": 16,
    "start_time": "2022-05-24T16:38:52.317Z"
   },
   {
    "duration": 16,
    "start_time": "2022-05-24T16:40:32.364Z"
   },
   {
    "duration": 20,
    "start_time": "2022-05-24T16:40:43.593Z"
   },
   {
    "duration": 28,
    "start_time": "2022-05-24T16:41:29.596Z"
   },
   {
    "duration": 22,
    "start_time": "2022-05-24T16:44:22.413Z"
   },
   {
    "duration": 25,
    "start_time": "2022-05-24T16:47:22.948Z"
   },
   {
    "duration": 6,
    "start_time": "2022-05-24T16:48:41.832Z"
   },
   {
    "duration": 6,
    "start_time": "2022-05-24T16:49:24.184Z"
   },
   {
    "duration": 18,
    "start_time": "2022-05-24T16:54:00.187Z"
   },
   {
    "duration": 5,
    "start_time": "2022-05-24T16:54:10.212Z"
   },
   {
    "duration": 49,
    "start_time": "2022-05-24T16:58:26.166Z"
   },
   {
    "duration": 30,
    "start_time": "2022-05-24T16:58:42.001Z"
   },
   {
    "duration": 273,
    "start_time": "2022-05-24T16:59:37.456Z"
   },
   {
    "duration": 6,
    "start_time": "2022-05-24T17:01:11.476Z"
   },
   {
    "duration": 6,
    "start_time": "2022-05-24T17:01:30.767Z"
   },
   {
    "duration": 1252,
    "start_time": "2022-05-24T17:01:47.433Z"
   },
   {
    "duration": 113,
    "start_time": "2022-05-24T17:01:48.688Z"
   },
   {
    "duration": 15,
    "start_time": "2022-05-24T17:01:48.802Z"
   },
   {
    "duration": 18,
    "start_time": "2022-05-24T17:01:48.820Z"
   },
   {
    "duration": 63,
    "start_time": "2022-05-24T17:01:48.840Z"
   },
   {
    "duration": 5,
    "start_time": "2022-05-24T17:01:48.904Z"
   },
   {
    "duration": 6,
    "start_time": "2022-05-24T17:01:48.911Z"
   },
   {
    "duration": 6,
    "start_time": "2022-05-24T17:01:48.919Z"
   },
   {
    "duration": 7,
    "start_time": "2022-05-24T17:01:48.927Z"
   },
   {
    "duration": 17,
    "start_time": "2022-05-24T17:01:48.937Z"
   },
   {
    "duration": 15,
    "start_time": "2022-05-24T17:01:48.955Z"
   },
   {
    "duration": 41,
    "start_time": "2022-05-24T17:01:48.972Z"
   },
   {
    "duration": 8,
    "start_time": "2022-05-24T17:01:49.014Z"
   },
   {
    "duration": 9,
    "start_time": "2022-05-24T17:01:49.024Z"
   },
   {
    "duration": 8,
    "start_time": "2022-05-24T17:01:49.035Z"
   },
   {
    "duration": 7,
    "start_time": "2022-05-24T17:01:49.045Z"
   },
   {
    "duration": 61,
    "start_time": "2022-05-24T17:01:49.054Z"
   },
   {
    "duration": 7,
    "start_time": "2022-05-24T17:01:49.117Z"
   },
   {
    "duration": 79,
    "start_time": "2022-05-24T17:01:49.126Z"
   },
   {
    "duration": 9,
    "start_time": "2022-05-24T17:01:49.207Z"
   },
   {
    "duration": 10,
    "start_time": "2022-05-24T17:01:49.303Z"
   },
   {
    "duration": 6,
    "start_time": "2022-05-24T17:01:49.315Z"
   },
   {
    "duration": 9,
    "start_time": "2022-05-24T17:01:49.323Z"
   },
   {
    "duration": 1098,
    "start_time": "2022-05-24T17:04:24.341Z"
   },
   {
    "duration": 108,
    "start_time": "2022-05-24T17:04:25.442Z"
   },
   {
    "duration": 14,
    "start_time": "2022-05-24T17:04:25.551Z"
   },
   {
    "duration": 23,
    "start_time": "2022-05-24T17:04:25.567Z"
   },
   {
    "duration": 60,
    "start_time": "2022-05-24T17:04:25.592Z"
   },
   {
    "duration": 5,
    "start_time": "2022-05-24T17:04:25.654Z"
   },
   {
    "duration": 31,
    "start_time": "2022-05-24T17:04:25.660Z"
   },
   {
    "duration": 27,
    "start_time": "2022-05-24T17:04:25.692Z"
   },
   {
    "duration": 20,
    "start_time": "2022-05-24T17:04:25.721Z"
   },
   {
    "duration": 32,
    "start_time": "2022-05-24T17:04:25.744Z"
   },
   {
    "duration": 28,
    "start_time": "2022-05-24T17:04:25.779Z"
   },
   {
    "duration": 21,
    "start_time": "2022-05-24T17:04:25.809Z"
   },
   {
    "duration": 14,
    "start_time": "2022-05-24T17:04:25.832Z"
   },
   {
    "duration": 9,
    "start_time": "2022-05-24T17:04:25.848Z"
   },
   {
    "duration": 21,
    "start_time": "2022-05-24T17:04:25.859Z"
   },
   {
    "duration": 13,
    "start_time": "2022-05-24T17:04:25.882Z"
   },
   {
    "duration": 62,
    "start_time": "2022-05-24T17:04:25.896Z"
   },
   {
    "duration": 8,
    "start_time": "2022-05-24T17:04:25.959Z"
   },
   {
    "duration": 31,
    "start_time": "2022-05-24T17:04:25.969Z"
   },
   {
    "duration": 101,
    "start_time": "2022-05-24T17:04:26.102Z"
   },
   {
    "duration": 17,
    "start_time": "2022-05-24T17:04:26.205Z"
   },
   {
    "duration": 17,
    "start_time": "2022-05-24T17:04:26.224Z"
   },
   {
    "duration": 67,
    "start_time": "2022-05-24T17:04:26.242Z"
   },
   {
    "duration": 3,
    "start_time": "2022-05-24T17:07:13.926Z"
   },
   {
    "duration": 5,
    "start_time": "2022-05-24T17:07:27.067Z"
   },
   {
    "duration": 124,
    "start_time": "2022-05-24T17:09:28.217Z"
   },
   {
    "duration": 3,
    "start_time": "2022-05-24T17:09:53.986Z"
   },
   {
    "duration": 8,
    "start_time": "2022-05-24T17:09:58.461Z"
   },
   {
    "duration": 18,
    "start_time": "2022-05-24T17:13:12.365Z"
   },
   {
    "duration": 13,
    "start_time": "2022-05-24T17:13:13.002Z"
   },
   {
    "duration": 7,
    "start_time": "2022-05-24T17:13:13.654Z"
   },
   {
    "duration": 6,
    "start_time": "2022-05-24T17:13:14.860Z"
   },
   {
    "duration": 10,
    "start_time": "2022-05-24T17:13:15.405Z"
   },
   {
    "duration": 6,
    "start_time": "2022-05-24T17:13:16.071Z"
   },
   {
    "duration": 17,
    "start_time": "2022-05-24T17:13:17.593Z"
   },
   {
    "duration": 16,
    "start_time": "2022-05-24T17:14:03.034Z"
   },
   {
    "duration": 5,
    "start_time": "2022-05-24T17:14:03.454Z"
   },
   {
    "duration": 7,
    "start_time": "2022-05-24T17:14:03.897Z"
   },
   {
    "duration": 6,
    "start_time": "2022-05-24T17:14:04.315Z"
   },
   {
    "duration": 7,
    "start_time": "2022-05-24T17:14:05.157Z"
   },
   {
    "duration": 15,
    "start_time": "2022-05-24T17:14:06.028Z"
   },
   {
    "duration": 6,
    "start_time": "2022-05-24T17:24:30.359Z"
   },
   {
    "duration": 21,
    "start_time": "2022-05-24T17:25:50.252Z"
   },
   {
    "duration": 7,
    "start_time": "2022-05-24T17:25:53.916Z"
   },
   {
    "duration": 12,
    "start_time": "2022-05-24T17:26:36.301Z"
   },
   {
    "duration": 9,
    "start_time": "2022-05-24T17:26:39.333Z"
   },
   {
    "duration": 5,
    "start_time": "2022-05-24T17:27:07.474Z"
   },
   {
    "duration": 7,
    "start_time": "2022-05-24T17:27:21.329Z"
   },
   {
    "duration": 10,
    "start_time": "2022-05-24T17:27:21.713Z"
   },
   {
    "duration": 6,
    "start_time": "2022-05-24T17:27:22.101Z"
   },
   {
    "duration": 368,
    "start_time": "2022-05-24T17:29:49.730Z"
   },
   {
    "duration": 3,
    "start_time": "2022-05-24T17:36:04.045Z"
   },
   {
    "duration": 4,
    "start_time": "2022-05-24T17:36:19.025Z"
   },
   {
    "duration": 107,
    "start_time": "2022-05-24T17:36:29.205Z"
   },
   {
    "duration": 15,
    "start_time": "2022-05-24T17:36:38.733Z"
   },
   {
    "duration": 18,
    "start_time": "2022-05-24T17:37:16.024Z"
   },
   {
    "duration": 268,
    "start_time": "2022-05-24T17:37:44.540Z"
   },
   {
    "duration": 17,
    "start_time": "2022-05-24T17:39:11.741Z"
   },
   {
    "duration": 8,
    "start_time": "2022-05-24T17:39:12.524Z"
   },
   {
    "duration": 5,
    "start_time": "2022-05-24T17:39:12.877Z"
   },
   {
    "duration": 5,
    "start_time": "2022-05-24T17:39:13.260Z"
   },
   {
    "duration": 7,
    "start_time": "2022-05-24T17:39:13.704Z"
   },
   {
    "duration": 12,
    "start_time": "2022-05-24T17:39:15.025Z"
   },
   {
    "duration": 260,
    "start_time": "2022-05-24T17:39:16.464Z"
   },
   {
    "duration": 130,
    "start_time": "2022-05-24T17:39:56.025Z"
   },
   {
    "duration": 27,
    "start_time": "2022-05-24T17:40:46.634Z"
   },
   {
    "duration": 6,
    "start_time": "2022-05-24T17:40:47.076Z"
   },
   {
    "duration": 6,
    "start_time": "2022-05-24T17:40:47.492Z"
   },
   {
    "duration": 5,
    "start_time": "2022-05-24T17:40:47.869Z"
   },
   {
    "duration": 7,
    "start_time": "2022-05-24T17:40:48.258Z"
   },
   {
    "duration": 16,
    "start_time": "2022-05-24T17:40:48.668Z"
   },
   {
    "duration": 140,
    "start_time": "2022-05-24T17:40:49.327Z"
   },
   {
    "duration": 308,
    "start_time": "2022-05-24T17:40:50.192Z"
   },
   {
    "duration": 71,
    "start_time": "2022-05-24T17:49:58.766Z"
   },
   {
    "duration": 43,
    "start_time": "2022-05-24T17:50:41.347Z"
   },
   {
    "duration": 46,
    "start_time": "2022-05-24T17:52:12.352Z"
   },
   {
    "duration": 1268,
    "start_time": "2022-05-24T17:53:57.470Z"
   },
   {
    "duration": 119,
    "start_time": "2022-05-24T17:53:58.740Z"
   },
   {
    "duration": 14,
    "start_time": "2022-05-24T17:53:58.860Z"
   },
   {
    "duration": 35,
    "start_time": "2022-05-24T17:53:58.876Z"
   },
   {
    "duration": 55,
    "start_time": "2022-05-24T17:53:58.920Z"
   },
   {
    "duration": 4,
    "start_time": "2022-05-24T17:53:58.977Z"
   },
   {
    "duration": 10,
    "start_time": "2022-05-24T17:53:58.983Z"
   },
   {
    "duration": 11,
    "start_time": "2022-05-24T17:53:58.995Z"
   },
   {
    "duration": 24,
    "start_time": "2022-05-24T17:53:59.007Z"
   },
   {
    "duration": 12,
    "start_time": "2022-05-24T17:53:59.034Z"
   },
   {
    "duration": 13,
    "start_time": "2022-05-24T17:53:59.047Z"
   },
   {
    "duration": 12,
    "start_time": "2022-05-24T17:53:59.061Z"
   },
   {
    "duration": 7,
    "start_time": "2022-05-24T17:53:59.075Z"
   },
   {
    "duration": 10,
    "start_time": "2022-05-24T17:53:59.084Z"
   },
   {
    "duration": 17,
    "start_time": "2022-05-24T17:53:59.096Z"
   },
   {
    "duration": 24,
    "start_time": "2022-05-24T17:53:59.115Z"
   },
   {
    "duration": 28,
    "start_time": "2022-05-24T17:53:59.140Z"
   },
   {
    "duration": 7,
    "start_time": "2022-05-24T17:53:59.169Z"
   },
   {
    "duration": 40,
    "start_time": "2022-05-24T17:53:59.177Z"
   },
   {
    "duration": 281,
    "start_time": "2022-05-24T17:53:59.221Z"
   },
   {
    "duration": 0,
    "start_time": "2022-05-24T17:53:59.504Z"
   },
   {
    "duration": 0,
    "start_time": "2022-05-24T17:53:59.509Z"
   },
   {
    "duration": 0,
    "start_time": "2022-05-24T17:53:59.511Z"
   },
   {
    "duration": 0,
    "start_time": "2022-05-24T17:53:59.512Z"
   },
   {
    "duration": 0,
    "start_time": "2022-05-24T17:53:59.512Z"
   },
   {
    "duration": 205,
    "start_time": "2022-05-24T17:54:27.530Z"
   },
   {
    "duration": 6,
    "start_time": "2022-05-24T17:54:34.662Z"
   },
   {
    "duration": 6,
    "start_time": "2022-05-24T17:54:35.156Z"
   },
   {
    "duration": 7,
    "start_time": "2022-05-24T17:54:35.553Z"
   },
   {
    "duration": 10,
    "start_time": "2022-05-24T17:54:35.978Z"
   },
   {
    "duration": 20,
    "start_time": "2022-05-24T17:54:36.898Z"
   },
   {
    "duration": 247,
    "start_time": "2022-05-24T17:57:32.097Z"
   },
   {
    "duration": 6,
    "start_time": "2022-05-24T17:57:42.629Z"
   },
   {
    "duration": 5,
    "start_time": "2022-05-24T17:57:43.361Z"
   },
   {
    "duration": 6,
    "start_time": "2022-05-24T17:57:44.071Z"
   },
   {
    "duration": 194,
    "start_time": "2022-05-24T18:01:42.765Z"
   },
   {
    "duration": 1376,
    "start_time": "2022-05-24T18:02:08.870Z"
   },
   {
    "duration": 130,
    "start_time": "2022-05-24T18:02:10.250Z"
   },
   {
    "duration": 13,
    "start_time": "2022-05-24T18:02:10.381Z"
   },
   {
    "duration": 46,
    "start_time": "2022-05-24T18:02:10.396Z"
   },
   {
    "duration": 45,
    "start_time": "2022-05-24T18:02:10.444Z"
   },
   {
    "duration": 14,
    "start_time": "2022-05-24T18:02:10.491Z"
   },
   {
    "duration": 39,
    "start_time": "2022-05-24T18:02:10.507Z"
   },
   {
    "duration": 7,
    "start_time": "2022-05-24T18:02:10.548Z"
   },
   {
    "duration": 7,
    "start_time": "2022-05-24T18:02:10.557Z"
   },
   {
    "duration": 11,
    "start_time": "2022-05-24T18:02:10.567Z"
   },
   {
    "duration": 10,
    "start_time": "2022-05-24T18:02:10.579Z"
   },
   {
    "duration": 18,
    "start_time": "2022-05-24T18:02:10.590Z"
   },
   {
    "duration": 27,
    "start_time": "2022-05-24T18:02:10.616Z"
   },
   {
    "duration": 10,
    "start_time": "2022-05-24T18:02:10.645Z"
   },
   {
    "duration": 8,
    "start_time": "2022-05-24T18:02:10.657Z"
   },
   {
    "duration": 5,
    "start_time": "2022-05-24T18:02:10.667Z"
   },
   {
    "duration": 32,
    "start_time": "2022-05-24T18:02:10.673Z"
   },
   {
    "duration": 20,
    "start_time": "2022-05-24T18:02:10.712Z"
   },
   {
    "duration": 30,
    "start_time": "2022-05-24T18:02:10.736Z"
   },
   {
    "duration": 38,
    "start_time": "2022-05-24T18:02:10.768Z"
   },
   {
    "duration": 136,
    "start_time": "2022-05-24T18:02:10.808Z"
   },
   {
    "duration": 7,
    "start_time": "2022-05-24T18:02:10.946Z"
   },
   {
    "duration": 7,
    "start_time": "2022-05-24T18:02:10.955Z"
   },
   {
    "duration": 153,
    "start_time": "2022-05-24T18:02:10.964Z"
   },
   {
    "duration": 0,
    "start_time": "2022-05-24T18:02:11.121Z"
   },
   {
    "duration": 16,
    "start_time": "2022-05-24T18:02:22.631Z"
   },
   {
    "duration": 61,
    "start_time": "2022-05-24T18:02:25.162Z"
   },
   {
    "duration": 1379,
    "start_time": "2022-05-24T18:02:40.529Z"
   },
   {
    "duration": 125,
    "start_time": "2022-05-24T18:02:41.918Z"
   },
   {
    "duration": 14,
    "start_time": "2022-05-24T18:02:42.045Z"
   },
   {
    "duration": 20,
    "start_time": "2022-05-24T18:02:42.061Z"
   },
   {
    "duration": 52,
    "start_time": "2022-05-24T18:02:42.101Z"
   },
   {
    "duration": 5,
    "start_time": "2022-05-24T18:02:42.155Z"
   },
   {
    "duration": 8,
    "start_time": "2022-05-24T18:02:42.161Z"
   },
   {
    "duration": 5,
    "start_time": "2022-05-24T18:02:42.170Z"
   },
   {
    "duration": 15,
    "start_time": "2022-05-24T18:02:42.203Z"
   },
   {
    "duration": 26,
    "start_time": "2022-05-24T18:02:42.220Z"
   },
   {
    "duration": 10,
    "start_time": "2022-05-24T18:02:42.248Z"
   },
   {
    "duration": 13,
    "start_time": "2022-05-24T18:02:42.260Z"
   },
   {
    "duration": 8,
    "start_time": "2022-05-24T18:02:42.275Z"
   },
   {
    "duration": 17,
    "start_time": "2022-05-24T18:02:42.285Z"
   },
   {
    "duration": 15,
    "start_time": "2022-05-24T18:02:42.304Z"
   },
   {
    "duration": 17,
    "start_time": "2022-05-24T18:02:42.321Z"
   },
   {
    "duration": 32,
    "start_time": "2022-05-24T18:02:42.339Z"
   },
   {
    "duration": 9,
    "start_time": "2022-05-24T18:02:42.372Z"
   },
   {
    "duration": 51,
    "start_time": "2022-05-24T18:02:42.382Z"
   },
   {
    "duration": 96,
    "start_time": "2022-05-24T18:02:42.435Z"
   },
   {
    "duration": 6,
    "start_time": "2022-05-24T18:02:42.603Z"
   },
   {
    "duration": 28,
    "start_time": "2022-05-24T18:02:42.611Z"
   },
   {
    "duration": 9,
    "start_time": "2022-05-24T18:02:42.641Z"
   },
   {
    "duration": 51,
    "start_time": "2022-05-24T18:02:42.652Z"
   },
   {
    "duration": 177,
    "start_time": "2022-05-24T18:02:42.705Z"
   },
   {
    "duration": 1181,
    "start_time": "2022-05-25T15:14:59.925Z"
   },
   {
    "duration": 137,
    "start_time": "2022-05-25T15:15:01.109Z"
   },
   {
    "duration": 33,
    "start_time": "2022-05-25T15:15:01.248Z"
   },
   {
    "duration": 48,
    "start_time": "2022-05-25T15:15:01.290Z"
   },
   {
    "duration": 45,
    "start_time": "2022-05-25T15:15:01.339Z"
   },
   {
    "duration": 6,
    "start_time": "2022-05-25T15:15:01.387Z"
   },
   {
    "duration": 35,
    "start_time": "2022-05-25T15:15:01.394Z"
   },
   {
    "duration": 19,
    "start_time": "2022-05-25T15:15:01.431Z"
   },
   {
    "duration": 54,
    "start_time": "2022-05-25T15:15:01.452Z"
   },
   {
    "duration": 16,
    "start_time": "2022-05-25T15:15:01.509Z"
   },
   {
    "duration": 15,
    "start_time": "2022-05-25T15:15:01.527Z"
   },
   {
    "duration": 73,
    "start_time": "2022-05-25T15:15:01.544Z"
   },
   {
    "duration": 9,
    "start_time": "2022-05-25T15:15:01.619Z"
   },
   {
    "duration": 25,
    "start_time": "2022-05-25T15:15:01.630Z"
   },
   {
    "duration": 76,
    "start_time": "2022-05-25T15:15:01.657Z"
   },
   {
    "duration": 56,
    "start_time": "2022-05-25T15:15:01.736Z"
   },
   {
    "duration": 79,
    "start_time": "2022-05-25T15:15:01.796Z"
   },
   {
    "duration": 16,
    "start_time": "2022-05-25T15:15:01.878Z"
   },
   {
    "duration": 80,
    "start_time": "2022-05-25T15:15:01.896Z"
   },
   {
    "duration": 95,
    "start_time": "2022-05-25T15:15:01.982Z"
   },
   {
    "duration": 28,
    "start_time": "2022-05-25T15:15:02.080Z"
   },
   {
    "duration": 60,
    "start_time": "2022-05-25T15:15:02.110Z"
   },
   {
    "duration": 166,
    "start_time": "2022-05-25T15:15:02.180Z"
   },
   {
    "duration": 273,
    "start_time": "2022-05-25T15:15:14.732Z"
   },
   {
    "duration": 4,
    "start_time": "2022-05-25T15:18:07.023Z"
   },
   {
    "duration": 12,
    "start_time": "2022-05-25T15:18:47.085Z"
   },
   {
    "duration": 20,
    "start_time": "2022-05-25T15:19:18.510Z"
   },
   {
    "duration": 11,
    "start_time": "2022-05-25T15:19:39.523Z"
   },
   {
    "duration": 10,
    "start_time": "2022-05-25T15:20:09.089Z"
   },
   {
    "duration": 6,
    "start_time": "2022-05-25T15:25:40.264Z"
   },
   {
    "duration": 40,
    "start_time": "2022-05-25T15:26:21.128Z"
   },
   {
    "duration": 1441,
    "start_time": "2022-05-25T15:26:36.688Z"
   },
   {
    "duration": 173,
    "start_time": "2022-05-25T15:26:38.132Z"
   },
   {
    "duration": 25,
    "start_time": "2022-05-25T15:26:38.307Z"
   },
   {
    "duration": 109,
    "start_time": "2022-05-25T15:26:38.335Z"
   },
   {
    "duration": 151,
    "start_time": "2022-05-25T15:26:38.449Z"
   },
   {
    "duration": 19,
    "start_time": "2022-05-25T15:26:38.603Z"
   },
   {
    "duration": 84,
    "start_time": "2022-05-25T15:26:38.635Z"
   },
   {
    "duration": 78,
    "start_time": "2022-05-25T15:26:38.721Z"
   },
   {
    "duration": 42,
    "start_time": "2022-05-25T15:26:38.801Z"
   },
   {
    "duration": 75,
    "start_time": "2022-05-25T15:26:38.846Z"
   },
   {
    "duration": 17,
    "start_time": "2022-05-25T15:26:38.922Z"
   },
   {
    "duration": 48,
    "start_time": "2022-05-25T15:26:38.940Z"
   },
   {
    "duration": 28,
    "start_time": "2022-05-25T15:26:38.991Z"
   },
   {
    "duration": 22,
    "start_time": "2022-05-25T15:26:39.022Z"
   },
   {
    "duration": 20,
    "start_time": "2022-05-25T15:26:39.046Z"
   },
   {
    "duration": 48,
    "start_time": "2022-05-25T15:26:39.068Z"
   },
   {
    "duration": 65,
    "start_time": "2022-05-25T15:26:39.118Z"
   },
   {
    "duration": 19,
    "start_time": "2022-05-25T15:26:39.191Z"
   },
   {
    "duration": 43,
    "start_time": "2022-05-25T15:26:39.212Z"
   },
   {
    "duration": 162,
    "start_time": "2022-05-25T15:26:39.258Z"
   },
   {
    "duration": 0,
    "start_time": "2022-05-25T15:26:39.422Z"
   },
   {
    "duration": 0,
    "start_time": "2022-05-25T15:26:39.423Z"
   },
   {
    "duration": 0,
    "start_time": "2022-05-25T15:26:39.425Z"
   },
   {
    "duration": 0,
    "start_time": "2022-05-25T15:26:39.426Z"
   },
   {
    "duration": 0,
    "start_time": "2022-05-25T15:26:39.427Z"
   },
   {
    "duration": 0,
    "start_time": "2022-05-25T15:26:39.428Z"
   },
   {
    "duration": 0,
    "start_time": "2022-05-25T15:26:39.430Z"
   },
   {
    "duration": 0,
    "start_time": "2022-05-25T15:26:39.431Z"
   },
   {
    "duration": 0,
    "start_time": "2022-05-25T15:26:39.433Z"
   },
   {
    "duration": 0,
    "start_time": "2022-05-25T15:26:39.434Z"
   },
   {
    "duration": 0,
    "start_time": "2022-05-25T15:26:39.435Z"
   },
   {
    "duration": 6,
    "start_time": "2022-05-25T15:26:50.296Z"
   },
   {
    "duration": 1416,
    "start_time": "2022-05-25T15:26:56.578Z"
   },
   {
    "duration": 158,
    "start_time": "2022-05-25T15:26:57.999Z"
   },
   {
    "duration": 30,
    "start_time": "2022-05-25T15:26:58.159Z"
   },
   {
    "duration": 43,
    "start_time": "2022-05-25T15:26:58.198Z"
   },
   {
    "duration": 53,
    "start_time": "2022-05-25T15:26:58.244Z"
   },
   {
    "duration": 11,
    "start_time": "2022-05-25T15:26:58.301Z"
   },
   {
    "duration": 32,
    "start_time": "2022-05-25T15:26:58.317Z"
   },
   {
    "duration": 43,
    "start_time": "2022-05-25T15:26:58.352Z"
   },
   {
    "duration": 27,
    "start_time": "2022-05-25T15:26:58.396Z"
   },
   {
    "duration": 22,
    "start_time": "2022-05-25T15:26:58.425Z"
   },
   {
    "duration": 19,
    "start_time": "2022-05-25T15:26:58.449Z"
   },
   {
    "duration": 69,
    "start_time": "2022-05-25T15:26:58.471Z"
   },
   {
    "duration": 13,
    "start_time": "2022-05-25T15:26:58.542Z"
   },
   {
    "duration": 64,
    "start_time": "2022-05-25T15:26:58.558Z"
   },
   {
    "duration": 12,
    "start_time": "2022-05-25T15:26:58.624Z"
   },
   {
    "duration": 10,
    "start_time": "2022-05-25T15:26:58.638Z"
   },
   {
    "duration": 44,
    "start_time": "2022-05-25T15:26:58.649Z"
   },
   {
    "duration": 19,
    "start_time": "2022-05-25T15:26:58.694Z"
   },
   {
    "duration": 17,
    "start_time": "2022-05-25T15:26:58.716Z"
   },
   {
    "duration": 4,
    "start_time": "2022-05-25T15:26:58.734Z"
   },
   {
    "duration": 140,
    "start_time": "2022-05-25T15:26:58.739Z"
   },
   {
    "duration": 193,
    "start_time": "2022-05-25T15:26:58.894Z"
   },
   {
    "duration": 0,
    "start_time": "2022-05-25T15:26:59.089Z"
   },
   {
    "duration": 0,
    "start_time": "2022-05-25T15:26:59.090Z"
   },
   {
    "duration": 0,
    "start_time": "2022-05-25T15:26:59.091Z"
   },
   {
    "duration": 0,
    "start_time": "2022-05-25T15:26:59.092Z"
   },
   {
    "duration": 0,
    "start_time": "2022-05-25T15:26:59.093Z"
   },
   {
    "duration": 0,
    "start_time": "2022-05-25T15:26:59.094Z"
   },
   {
    "duration": 0,
    "start_time": "2022-05-25T15:26:59.095Z"
   },
   {
    "duration": 0,
    "start_time": "2022-05-25T15:26:59.096Z"
   },
   {
    "duration": 1199,
    "start_time": "2022-05-25T15:27:23.848Z"
   },
   {
    "duration": 151,
    "start_time": "2022-05-25T15:27:25.050Z"
   },
   {
    "duration": 15,
    "start_time": "2022-05-25T15:27:25.202Z"
   },
   {
    "duration": 39,
    "start_time": "2022-05-25T15:27:25.219Z"
   },
   {
    "duration": 90,
    "start_time": "2022-05-25T15:27:25.261Z"
   },
   {
    "duration": 10,
    "start_time": "2022-05-25T15:27:25.353Z"
   },
   {
    "duration": 45,
    "start_time": "2022-05-25T15:27:25.368Z"
   },
   {
    "duration": 24,
    "start_time": "2022-05-25T15:27:25.414Z"
   },
   {
    "duration": 18,
    "start_time": "2022-05-25T15:27:25.440Z"
   },
   {
    "duration": 80,
    "start_time": "2022-05-25T15:27:25.460Z"
   },
   {
    "duration": 39,
    "start_time": "2022-05-25T15:27:25.542Z"
   },
   {
    "duration": 40,
    "start_time": "2022-05-25T15:27:25.582Z"
   },
   {
    "duration": 9,
    "start_time": "2022-05-25T15:27:25.624Z"
   },
   {
    "duration": 10,
    "start_time": "2022-05-25T15:27:25.636Z"
   },
   {
    "duration": 7,
    "start_time": "2022-05-25T15:27:25.648Z"
   },
   {
    "duration": 14,
    "start_time": "2022-05-25T15:27:25.657Z"
   },
   {
    "duration": 59,
    "start_time": "2022-05-25T15:27:25.673Z"
   },
   {
    "duration": 8,
    "start_time": "2022-05-25T15:27:25.734Z"
   },
   {
    "duration": 27,
    "start_time": "2022-05-25T15:27:25.744Z"
   },
   {
    "duration": 18,
    "start_time": "2022-05-25T15:27:25.773Z"
   },
   {
    "duration": 272,
    "start_time": "2022-05-25T15:27:25.792Z"
   },
   {
    "duration": 225,
    "start_time": "2022-05-25T15:27:26.079Z"
   },
   {
    "duration": 291,
    "start_time": "2022-05-25T15:27:26.306Z"
   },
   {
    "duration": 8,
    "start_time": "2022-05-25T15:27:26.599Z"
   },
   {
    "duration": 10,
    "start_time": "2022-05-25T15:27:26.609Z"
   },
   {
    "duration": 23,
    "start_time": "2022-05-25T15:27:26.621Z"
   },
   {
    "duration": 29,
    "start_time": "2022-05-25T15:27:26.646Z"
   },
   {
    "duration": 140,
    "start_time": "2022-05-25T15:27:26.678Z"
   },
   {
    "duration": 24,
    "start_time": "2022-05-25T15:27:53.114Z"
   },
   {
    "duration": 11,
    "start_time": "2022-05-25T15:28:09.807Z"
   },
   {
    "duration": 54,
    "start_time": "2022-05-25T15:28:10.320Z"
   },
   {
    "duration": 38,
    "start_time": "2022-05-25T15:28:11.483Z"
   },
   {
    "duration": 17,
    "start_time": "2022-05-25T15:28:17.292Z"
   },
   {
    "duration": 30,
    "start_time": "2022-05-25T15:28:17.809Z"
   },
   {
    "duration": 26,
    "start_time": "2022-05-25T15:28:18.329Z"
   },
   {
    "duration": 19,
    "start_time": "2022-05-25T15:28:48.377Z"
   },
   {
    "duration": 81,
    "start_time": "2022-05-25T15:28:48.785Z"
   },
   {
    "duration": 94,
    "start_time": "2022-05-25T15:28:49.176Z"
   },
   {
    "duration": 15,
    "start_time": "2022-05-25T15:28:57.943Z"
   },
   {
    "duration": 35,
    "start_time": "2022-05-25T15:28:58.303Z"
   },
   {
    "duration": 140,
    "start_time": "2022-05-25T15:28:58.647Z"
   },
   {
    "duration": 13,
    "start_time": "2022-05-25T15:29:05.544Z"
   },
   {
    "duration": 37,
    "start_time": "2022-05-25T15:29:05.888Z"
   },
   {
    "duration": 80,
    "start_time": "2022-05-25T15:29:06.280Z"
   },
   {
    "duration": 15,
    "start_time": "2022-05-25T15:29:10.347Z"
   },
   {
    "duration": 76,
    "start_time": "2022-05-25T15:29:10.649Z"
   },
   {
    "duration": 93,
    "start_time": "2022-05-25T15:29:10.990Z"
   },
   {
    "duration": 198,
    "start_time": "2022-05-25T15:31:14.201Z"
   },
   {
    "duration": 8,
    "start_time": "2022-05-25T15:31:17.494Z"
   },
   {
    "duration": 26,
    "start_time": "2022-05-25T15:31:17.945Z"
   },
   {
    "duration": 34,
    "start_time": "2022-05-25T15:31:24.253Z"
   },
   {
    "duration": 13,
    "start_time": "2022-05-25T15:31:55.328Z"
   },
   {
    "duration": 22,
    "start_time": "2022-05-25T15:31:56.016Z"
   },
   {
    "duration": 164,
    "start_time": "2022-05-25T15:31:56.615Z"
   },
   {
    "duration": 18,
    "start_time": "2022-05-25T15:32:05.034Z"
   },
   {
    "duration": 57,
    "start_time": "2022-05-25T15:32:05.852Z"
   },
   {
    "duration": 177,
    "start_time": "2022-05-25T15:32:06.892Z"
   },
   {
    "duration": 38,
    "start_time": "2022-05-25T15:32:41.157Z"
   },
   {
    "duration": 1401,
    "start_time": "2022-05-25T15:32:47.736Z"
   },
   {
    "duration": 137,
    "start_time": "2022-05-25T15:32:49.140Z"
   },
   {
    "duration": 16,
    "start_time": "2022-05-25T15:32:49.284Z"
   },
   {
    "duration": 35,
    "start_time": "2022-05-25T15:32:49.303Z"
   },
   {
    "duration": 67,
    "start_time": "2022-05-25T15:32:49.339Z"
   },
   {
    "duration": 17,
    "start_time": "2022-05-25T15:32:49.408Z"
   },
   {
    "duration": 31,
    "start_time": "2022-05-25T15:32:49.426Z"
   },
   {
    "duration": 53,
    "start_time": "2022-05-25T15:32:49.459Z"
   },
   {
    "duration": 23,
    "start_time": "2022-05-25T15:32:49.514Z"
   },
   {
    "duration": 66,
    "start_time": "2022-05-25T15:32:49.540Z"
   },
   {
    "duration": 40,
    "start_time": "2022-05-25T15:32:49.608Z"
   },
   {
    "duration": 54,
    "start_time": "2022-05-25T15:32:49.650Z"
   },
   {
    "duration": 27,
    "start_time": "2022-05-25T15:32:49.706Z"
   },
   {
    "duration": 23,
    "start_time": "2022-05-25T15:32:49.735Z"
   },
   {
    "duration": 49,
    "start_time": "2022-05-25T15:32:49.764Z"
   },
   {
    "duration": 35,
    "start_time": "2022-05-25T15:32:49.815Z"
   },
   {
    "duration": 110,
    "start_time": "2022-05-25T15:32:49.852Z"
   },
   {
    "duration": 10,
    "start_time": "2022-05-25T15:32:49.967Z"
   },
   {
    "duration": 48,
    "start_time": "2022-05-25T15:32:49.978Z"
   },
   {
    "duration": 22,
    "start_time": "2022-05-25T15:32:50.028Z"
   },
   {
    "duration": 131,
    "start_time": "2022-05-25T15:32:50.052Z"
   },
   {
    "duration": 296,
    "start_time": "2022-05-25T15:32:50.188Z"
   },
   {
    "duration": 317,
    "start_time": "2022-05-25T15:32:50.485Z"
   },
   {
    "duration": 15,
    "start_time": "2022-05-25T15:32:50.806Z"
   },
   {
    "duration": 94,
    "start_time": "2022-05-25T15:32:50.828Z"
   },
   {
    "duration": 63,
    "start_time": "2022-05-25T15:32:50.924Z"
   },
   {
    "duration": 173,
    "start_time": "2022-05-25T15:32:51.003Z"
   },
   {
    "duration": 27,
    "start_time": "2022-05-25T15:32:51.195Z"
   },
   {
    "duration": 96,
    "start_time": "2022-05-25T15:32:51.224Z"
   },
   {
    "duration": 45,
    "start_time": "2022-05-25T15:32:51.321Z"
   },
   {
    "duration": 117,
    "start_time": "2022-05-25T15:32:51.372Z"
   },
   {
    "duration": 14,
    "start_time": "2022-05-25T15:33:33.634Z"
   },
   {
    "duration": 145,
    "start_time": "2022-05-25T15:33:34.152Z"
   },
   {
    "duration": 13,
    "start_time": "2022-05-25T15:33:40.239Z"
   },
   {
    "duration": 16,
    "start_time": "2022-05-25T15:33:41.019Z"
   },
   {
    "duration": 148,
    "start_time": "2022-05-25T15:33:41.549Z"
   },
   {
    "duration": 14,
    "start_time": "2022-05-25T15:33:52.022Z"
   },
   {
    "duration": 17,
    "start_time": "2022-05-25T15:33:52.430Z"
   },
   {
    "duration": 157,
    "start_time": "2022-05-25T15:33:52.855Z"
   },
   {
    "duration": 35,
    "start_time": "2022-05-25T15:33:58.859Z"
   },
   {
    "duration": 20,
    "start_time": "2022-05-25T15:33:59.312Z"
   },
   {
    "duration": 42,
    "start_time": "2022-05-25T15:33:59.807Z"
   },
   {
    "duration": 20,
    "start_time": "2022-05-25T15:34:15.651Z"
   },
   {
    "duration": 58,
    "start_time": "2022-05-25T15:34:16.052Z"
   },
   {
    "duration": 24,
    "start_time": "2022-05-25T15:35:30.217Z"
   },
   {
    "duration": 62,
    "start_time": "2022-05-25T15:35:36.098Z"
   },
   {
    "duration": 404,
    "start_time": "2022-05-25T15:44:47.888Z"
   },
   {
    "duration": 206,
    "start_time": "2022-05-25T15:45:31.212Z"
   },
   {
    "duration": 229,
    "start_time": "2022-05-25T15:47:53.063Z"
   },
   {
    "duration": 293,
    "start_time": "2022-05-25T15:48:06.943Z"
   },
   {
    "duration": 97,
    "start_time": "2022-05-25T15:51:42.855Z"
   },
   {
    "duration": 7,
    "start_time": "2022-05-25T15:51:50.693Z"
   },
   {
    "duration": 1145,
    "start_time": "2022-05-25T15:52:00.039Z"
   },
   {
    "duration": 110,
    "start_time": "2022-05-25T15:52:01.186Z"
   },
   {
    "duration": 12,
    "start_time": "2022-05-25T15:52:01.297Z"
   },
   {
    "duration": 15,
    "start_time": "2022-05-25T15:52:01.311Z"
   },
   {
    "duration": 58,
    "start_time": "2022-05-25T15:52:01.327Z"
   },
   {
    "duration": 4,
    "start_time": "2022-05-25T15:52:01.386Z"
   },
   {
    "duration": 10,
    "start_time": "2022-05-25T15:52:01.392Z"
   },
   {
    "duration": 10,
    "start_time": "2022-05-25T15:52:01.404Z"
   },
   {
    "duration": 9,
    "start_time": "2022-05-25T15:52:01.415Z"
   },
   {
    "duration": 13,
    "start_time": "2022-05-25T15:52:01.426Z"
   },
   {
    "duration": 20,
    "start_time": "2022-05-25T15:52:01.441Z"
   },
   {
    "duration": 16,
    "start_time": "2022-05-25T15:52:01.463Z"
   },
   {
    "duration": 12,
    "start_time": "2022-05-25T15:52:01.481Z"
   },
   {
    "duration": 14,
    "start_time": "2022-05-25T15:52:01.494Z"
   },
   {
    "duration": 5,
    "start_time": "2022-05-25T15:52:01.510Z"
   },
   {
    "duration": 13,
    "start_time": "2022-05-25T15:52:01.517Z"
   },
   {
    "duration": 39,
    "start_time": "2022-05-25T15:52:01.531Z"
   },
   {
    "duration": 7,
    "start_time": "2022-05-25T15:52:01.572Z"
   },
   {
    "duration": 30,
    "start_time": "2022-05-25T15:52:01.581Z"
   },
   {
    "duration": 5,
    "start_time": "2022-05-25T15:52:01.612Z"
   },
   {
    "duration": 52,
    "start_time": "2022-05-25T15:52:01.619Z"
   },
   {
    "duration": 317,
    "start_time": "2022-05-25T15:52:01.673Z"
   },
   {
    "duration": 255,
    "start_time": "2022-05-25T15:52:01.992Z"
   },
   {
    "duration": 11,
    "start_time": "2022-05-25T15:52:02.249Z"
   },
   {
    "duration": 19,
    "start_time": "2022-05-25T15:52:02.262Z"
   },
   {
    "duration": 24,
    "start_time": "2022-05-25T15:52:02.282Z"
   },
   {
    "duration": 60,
    "start_time": "2022-05-25T15:52:02.308Z"
   },
   {
    "duration": 88,
    "start_time": "2022-05-25T15:52:02.373Z"
   },
   {
    "duration": 26,
    "start_time": "2022-05-25T15:52:02.462Z"
   },
   {
    "duration": 9,
    "start_time": "2022-05-25T15:52:02.490Z"
   },
   {
    "duration": 62,
    "start_time": "2022-05-25T15:52:02.500Z"
   },
   {
    "duration": 104,
    "start_time": "2022-05-25T15:52:02.564Z"
   },
   {
    "duration": 90,
    "start_time": "2022-05-25T15:52:02.670Z"
   },
   {
    "duration": 24155,
    "start_time": "2022-05-25T15:52:02.762Z"
   },
   {
    "duration": 26123,
    "start_time": "2022-05-25T15:52:34.791Z"
   },
   {
    "duration": 283,
    "start_time": "2022-05-25T15:53:18.893Z"
   },
   {
    "duration": 27684,
    "start_time": "2022-05-25T15:54:42.033Z"
   },
   {
    "duration": 216,
    "start_time": "2022-05-25T15:55:17.229Z"
   },
   {
    "duration": 30291,
    "start_time": "2022-05-25T15:56:00.394Z"
   },
   {
    "duration": 5,
    "start_time": "2022-05-25T15:57:00.252Z"
   },
   {
    "duration": 7,
    "start_time": "2022-05-25T15:57:32.512Z"
   },
   {
    "duration": 29606,
    "start_time": "2022-05-25T15:58:41.638Z"
   },
   {
    "duration": 5,
    "start_time": "2022-05-25T15:59:22.201Z"
   },
   {
    "duration": 5,
    "start_time": "2022-05-25T15:59:25.081Z"
   },
   {
    "duration": 41694,
    "start_time": "2022-05-25T16:03:22.847Z"
   },
   {
    "duration": 42638,
    "start_time": "2022-05-25T16:05:05.612Z"
   },
   {
    "duration": 9,
    "start_time": "2022-05-25T16:05:48.252Z"
   },
   {
    "duration": 5,
    "start_time": "2022-05-25T16:06:00.428Z"
   },
   {
    "duration": 4345,
    "start_time": "2022-05-25T16:06:42.001Z"
   },
   {
    "duration": 5,
    "start_time": "2022-05-25T16:06:56.979Z"
   },
   {
    "duration": 4,
    "start_time": "2022-05-25T16:08:35.678Z"
   },
   {
    "duration": 1245,
    "start_time": "2022-05-25T16:09:09.737Z"
   },
   {
    "duration": 150,
    "start_time": "2022-05-25T16:09:10.984Z"
   },
   {
    "duration": 13,
    "start_time": "2022-05-25T16:09:11.136Z"
   },
   {
    "duration": 35,
    "start_time": "2022-05-25T16:09:11.160Z"
   },
   {
    "duration": 78,
    "start_time": "2022-05-25T16:09:11.197Z"
   },
   {
    "duration": 5,
    "start_time": "2022-05-25T16:09:11.277Z"
   },
   {
    "duration": 10,
    "start_time": "2022-05-25T16:09:11.284Z"
   },
   {
    "duration": 7,
    "start_time": "2022-05-25T16:09:11.296Z"
   },
   {
    "duration": 7,
    "start_time": "2022-05-25T16:09:11.305Z"
   },
   {
    "duration": 13,
    "start_time": "2022-05-25T16:09:11.314Z"
   },
   {
    "duration": 36,
    "start_time": "2022-05-25T16:09:11.328Z"
   },
   {
    "duration": 13,
    "start_time": "2022-05-25T16:09:11.376Z"
   },
   {
    "duration": 10,
    "start_time": "2022-05-25T16:09:11.391Z"
   },
   {
    "duration": 25,
    "start_time": "2022-05-25T16:09:11.403Z"
   },
   {
    "duration": 7,
    "start_time": "2022-05-25T16:09:11.429Z"
   },
   {
    "duration": 13,
    "start_time": "2022-05-25T16:09:11.437Z"
   },
   {
    "duration": 35,
    "start_time": "2022-05-25T16:09:11.452Z"
   },
   {
    "duration": 8,
    "start_time": "2022-05-25T16:09:11.489Z"
   },
   {
    "duration": 19,
    "start_time": "2022-05-25T16:09:11.499Z"
   },
   {
    "duration": 4,
    "start_time": "2022-05-25T16:09:11.520Z"
   },
   {
    "duration": 235,
    "start_time": "2022-05-25T16:09:11.526Z"
   },
   {
    "duration": 239,
    "start_time": "2022-05-25T16:09:11.769Z"
   },
   {
    "duration": 277,
    "start_time": "2022-05-25T16:09:12.009Z"
   },
   {
    "duration": 3,
    "start_time": "2022-05-25T16:09:12.288Z"
   },
   {
    "duration": 15,
    "start_time": "2022-05-25T16:09:12.293Z"
   },
   {
    "duration": 21,
    "start_time": "2022-05-25T16:09:12.310Z"
   },
   {
    "duration": 138,
    "start_time": "2022-05-25T16:09:12.332Z"
   },
   {
    "duration": 95,
    "start_time": "2022-05-25T16:09:12.481Z"
   },
   {
    "duration": 24,
    "start_time": "2022-05-25T16:09:12.579Z"
   },
   {
    "duration": 21,
    "start_time": "2022-05-25T16:09:12.604Z"
   },
   {
    "duration": 41,
    "start_time": "2022-05-25T16:09:12.627Z"
   },
   {
    "duration": 136,
    "start_time": "2022-05-25T16:09:12.670Z"
   },
   {
    "duration": 158,
    "start_time": "2022-05-25T16:09:12.808Z"
   },
   {
    "duration": 4717,
    "start_time": "2022-05-25T16:09:12.968Z"
   },
   {
    "duration": 5,
    "start_time": "2022-05-25T16:09:17.687Z"
   },
   {
    "duration": 160,
    "start_time": "2022-05-25T16:09:17.694Z"
   },
   {
    "duration": 4794,
    "start_time": "2022-05-25T16:10:56.266Z"
   },
   {
    "duration": 4,
    "start_time": "2022-05-25T16:11:16.258Z"
   },
   {
    "duration": 4538,
    "start_time": "2022-05-25T16:12:05.164Z"
   },
   {
    "duration": 9,
    "start_time": "2022-05-25T16:12:12.249Z"
   },
   {
    "duration": 5,
    "start_time": "2022-05-25T16:12:50.622Z"
   },
   {
    "duration": 5,
    "start_time": "2022-05-25T16:13:18.143Z"
   },
   {
    "duration": 5,
    "start_time": "2022-05-25T16:14:14.779Z"
   },
   {
    "duration": 101,
    "start_time": "2022-05-25T16:15:33.443Z"
   },
   {
    "duration": 4578,
    "start_time": "2022-05-25T16:15:57.745Z"
   },
   {
    "duration": 161,
    "start_time": "2022-05-25T16:17:21.058Z"
   },
   {
    "duration": 203,
    "start_time": "2022-05-25T16:18:00.972Z"
   },
   {
    "duration": 4548,
    "start_time": "2022-05-25T16:21:03.441Z"
   },
   {
    "duration": 266,
    "start_time": "2022-05-25T16:22:53.025Z"
   },
   {
    "duration": 98,
    "start_time": "2022-05-25T16:24:05.396Z"
   },
   {
    "duration": 99,
    "start_time": "2022-05-25T16:24:34.493Z"
   },
   {
    "duration": 9,
    "start_time": "2022-05-25T16:26:15.857Z"
   },
   {
    "duration": 103,
    "start_time": "2022-05-25T16:26:16.580Z"
   },
   {
    "duration": 1377,
    "start_time": "2022-05-25T16:28:16.250Z"
   },
   {
    "duration": 138,
    "start_time": "2022-05-25T16:28:17.630Z"
   },
   {
    "duration": 19,
    "start_time": "2022-05-25T16:28:17.770Z"
   },
   {
    "duration": 37,
    "start_time": "2022-05-25T16:28:17.791Z"
   },
   {
    "duration": 70,
    "start_time": "2022-05-25T16:28:17.830Z"
   },
   {
    "duration": 14,
    "start_time": "2022-05-25T16:28:17.902Z"
   },
   {
    "duration": 10,
    "start_time": "2022-05-25T16:28:17.918Z"
   },
   {
    "duration": 10,
    "start_time": "2022-05-25T16:28:17.930Z"
   },
   {
    "duration": 10,
    "start_time": "2022-05-25T16:28:17.942Z"
   },
   {
    "duration": 54,
    "start_time": "2022-05-25T16:28:17.954Z"
   },
   {
    "duration": 16,
    "start_time": "2022-05-25T16:28:18.010Z"
   },
   {
    "duration": 15,
    "start_time": "2022-05-25T16:28:18.028Z"
   },
   {
    "duration": 22,
    "start_time": "2022-05-25T16:28:18.045Z"
   },
   {
    "duration": 39,
    "start_time": "2022-05-25T16:28:18.070Z"
   },
   {
    "duration": 7,
    "start_time": "2022-05-25T16:28:18.111Z"
   },
   {
    "duration": 5,
    "start_time": "2022-05-25T16:28:18.120Z"
   },
   {
    "duration": 47,
    "start_time": "2022-05-25T16:28:18.128Z"
   },
   {
    "duration": 28,
    "start_time": "2022-05-25T16:28:18.178Z"
   },
   {
    "duration": 18,
    "start_time": "2022-05-25T16:28:18.208Z"
   },
   {
    "duration": 4,
    "start_time": "2022-05-25T16:28:18.228Z"
   },
   {
    "duration": 43,
    "start_time": "2022-05-25T16:28:18.233Z"
   },
   {
    "duration": 324,
    "start_time": "2022-05-25T16:28:18.278Z"
   },
   {
    "duration": 294,
    "start_time": "2022-05-25T16:28:18.603Z"
   },
   {
    "duration": 5,
    "start_time": "2022-05-25T16:28:18.899Z"
   },
   {
    "duration": 16,
    "start_time": "2022-05-25T16:28:18.905Z"
   },
   {
    "duration": 42,
    "start_time": "2022-05-25T16:28:18.923Z"
   },
   {
    "duration": 107,
    "start_time": "2022-05-25T16:28:18.969Z"
   },
   {
    "duration": 78,
    "start_time": "2022-05-25T16:28:19.088Z"
   },
   {
    "duration": 35,
    "start_time": "2022-05-25T16:28:19.169Z"
   },
   {
    "duration": 12,
    "start_time": "2022-05-25T16:28:19.205Z"
   },
   {
    "duration": 65,
    "start_time": "2022-05-25T16:28:19.218Z"
   },
   {
    "duration": 106,
    "start_time": "2022-05-25T16:28:19.285Z"
   },
   {
    "duration": 72,
    "start_time": "2022-05-25T16:28:19.393Z"
   },
   {
    "duration": 4449,
    "start_time": "2022-05-25T16:28:19.466Z"
   },
   {
    "duration": 5,
    "start_time": "2022-05-25T16:28:23.917Z"
   },
   {
    "duration": 137,
    "start_time": "2022-05-25T16:28:23.923Z"
   },
   {
    "duration": 0,
    "start_time": "2022-05-25T16:28:24.062Z"
   },
   {
    "duration": 0,
    "start_time": "2022-05-25T16:28:24.064Z"
   },
   {
    "duration": 0,
    "start_time": "2022-05-25T16:28:24.065Z"
   },
   {
    "duration": 0,
    "start_time": "2022-05-25T16:28:24.066Z"
   },
   {
    "duration": 143,
    "start_time": "2022-05-25T16:29:21.298Z"
   },
   {
    "duration": 125,
    "start_time": "2022-05-25T16:30:23.589Z"
   },
   {
    "duration": 191,
    "start_time": "2022-05-25T16:32:33.053Z"
   },
   {
    "duration": 198,
    "start_time": "2022-05-25T16:33:27.002Z"
   },
   {
    "duration": 4,
    "start_time": "2022-05-25T16:33:32.944Z"
   },
   {
    "duration": 238,
    "start_time": "2022-05-25T16:33:37.452Z"
   },
   {
    "duration": 90,
    "start_time": "2022-05-25T16:36:39.334Z"
   },
   {
    "duration": 207,
    "start_time": "2022-05-25T16:36:55.204Z"
   },
   {
    "duration": 211,
    "start_time": "2022-05-25T16:37:56.830Z"
   },
   {
    "duration": 206,
    "start_time": "2022-05-25T16:39:09.518Z"
   },
   {
    "duration": 7,
    "start_time": "2022-05-25T16:39:49.394Z"
   },
   {
    "duration": 216,
    "start_time": "2022-05-25T16:39:57.426Z"
   },
   {
    "duration": 221,
    "start_time": "2022-05-25T16:40:15.524Z"
   },
   {
    "duration": 316,
    "start_time": "2022-05-25T16:44:02.524Z"
   },
   {
    "duration": 24,
    "start_time": "2022-05-25T16:53:39.775Z"
   },
   {
    "duration": 4,
    "start_time": "2022-05-25T17:01:47.499Z"
   },
   {
    "duration": 1237,
    "start_time": "2022-05-25T17:03:27.681Z"
   },
   {
    "duration": 114,
    "start_time": "2022-05-25T17:03:28.921Z"
   },
   {
    "duration": 13,
    "start_time": "2022-05-25T17:03:29.036Z"
   },
   {
    "duration": 26,
    "start_time": "2022-05-25T17:03:29.051Z"
   },
   {
    "duration": 77,
    "start_time": "2022-05-25T17:03:29.079Z"
   },
   {
    "duration": 10,
    "start_time": "2022-05-25T17:03:29.158Z"
   },
   {
    "duration": 21,
    "start_time": "2022-05-25T17:03:29.170Z"
   },
   {
    "duration": 17,
    "start_time": "2022-05-25T17:03:29.196Z"
   },
   {
    "duration": 7,
    "start_time": "2022-05-25T17:03:29.214Z"
   },
   {
    "duration": 13,
    "start_time": "2022-05-25T17:03:29.222Z"
   },
   {
    "duration": 9,
    "start_time": "2022-05-25T17:03:29.236Z"
   },
   {
    "duration": 10,
    "start_time": "2022-05-25T17:03:29.247Z"
   },
   {
    "duration": 38,
    "start_time": "2022-05-25T17:03:29.259Z"
   },
   {
    "duration": 10,
    "start_time": "2022-05-25T17:03:29.300Z"
   },
   {
    "duration": 6,
    "start_time": "2022-05-25T17:03:29.312Z"
   },
   {
    "duration": 4,
    "start_time": "2022-05-25T17:03:29.319Z"
   },
   {
    "duration": 27,
    "start_time": "2022-05-25T17:03:29.324Z"
   },
   {
    "duration": 8,
    "start_time": "2022-05-25T17:03:29.352Z"
   },
   {
    "duration": 51,
    "start_time": "2022-05-25T17:03:29.366Z"
   },
   {
    "duration": 4,
    "start_time": "2022-05-25T17:03:29.418Z"
   },
   {
    "duration": 54,
    "start_time": "2022-05-25T17:03:29.423Z"
   },
   {
    "duration": 300,
    "start_time": "2022-05-25T17:03:29.496Z"
   },
   {
    "duration": 277,
    "start_time": "2022-05-25T17:03:29.798Z"
   },
   {
    "duration": 7,
    "start_time": "2022-05-25T17:03:30.077Z"
   },
   {
    "duration": 22,
    "start_time": "2022-05-25T17:03:30.093Z"
   },
   {
    "duration": 15,
    "start_time": "2022-05-25T17:03:30.116Z"
   },
   {
    "duration": 35,
    "start_time": "2022-05-25T17:03:30.132Z"
   },
   {
    "duration": 98,
    "start_time": "2022-05-25T17:03:30.169Z"
   },
   {
    "duration": 40,
    "start_time": "2022-05-25T17:03:30.279Z"
   },
   {
    "duration": 17,
    "start_time": "2022-05-25T17:03:30.321Z"
   },
   {
    "duration": 33,
    "start_time": "2022-05-25T17:03:30.340Z"
   },
   {
    "duration": 141,
    "start_time": "2022-05-25T17:03:30.375Z"
   },
   {
    "duration": 243,
    "start_time": "2022-05-25T17:03:30.518Z"
   },
   {
    "duration": 4136,
    "start_time": "2022-05-25T17:03:30.762Z"
   },
   {
    "duration": 285,
    "start_time": "2022-05-25T17:03:34.901Z"
   },
   {
    "duration": 87,
    "start_time": "2022-05-25T17:03:35.189Z"
   },
   {
    "duration": 94,
    "start_time": "2022-05-25T17:21:08.782Z"
   },
   {
    "duration": 1126,
    "start_time": "2022-05-25T17:21:14.989Z"
   },
   {
    "duration": 110,
    "start_time": "2022-05-25T17:21:16.118Z"
   },
   {
    "duration": 11,
    "start_time": "2022-05-25T17:21:16.230Z"
   },
   {
    "duration": 39,
    "start_time": "2022-05-25T17:21:16.243Z"
   },
   {
    "duration": 41,
    "start_time": "2022-05-25T17:21:16.284Z"
   },
   {
    "duration": 4,
    "start_time": "2022-05-25T17:21:16.326Z"
   },
   {
    "duration": 7,
    "start_time": "2022-05-25T17:21:16.331Z"
   },
   {
    "duration": 5,
    "start_time": "2022-05-25T17:21:16.340Z"
   },
   {
    "duration": 17,
    "start_time": "2022-05-25T17:21:16.346Z"
   },
   {
    "duration": 41,
    "start_time": "2022-05-25T17:21:16.365Z"
   },
   {
    "duration": 9,
    "start_time": "2022-05-25T17:21:16.408Z"
   },
   {
    "duration": 11,
    "start_time": "2022-05-25T17:21:16.418Z"
   },
   {
    "duration": 8,
    "start_time": "2022-05-25T17:21:16.431Z"
   },
   {
    "duration": 8,
    "start_time": "2022-05-25T17:21:16.441Z"
   },
   {
    "duration": 7,
    "start_time": "2022-05-25T17:21:16.450Z"
   },
   {
    "duration": 11,
    "start_time": "2022-05-25T17:21:16.459Z"
   },
   {
    "duration": 43,
    "start_time": "2022-05-25T17:21:16.474Z"
   },
   {
    "duration": 7,
    "start_time": "2022-05-25T17:21:16.518Z"
   },
   {
    "duration": 17,
    "start_time": "2022-05-25T17:21:16.526Z"
   },
   {
    "duration": 4,
    "start_time": "2022-05-25T17:21:16.544Z"
   },
   {
    "duration": 136,
    "start_time": "2022-05-25T17:21:16.550Z"
   },
   {
    "duration": 316,
    "start_time": "2022-05-25T17:21:16.690Z"
   },
   {
    "duration": 281,
    "start_time": "2022-05-25T17:21:17.008Z"
   },
   {
    "duration": 4,
    "start_time": "2022-05-25T17:21:17.291Z"
   },
   {
    "duration": 14,
    "start_time": "2022-05-25T17:21:17.297Z"
   },
   {
    "duration": 18,
    "start_time": "2022-05-25T17:21:17.312Z"
   },
   {
    "duration": 60,
    "start_time": "2022-05-25T17:21:17.331Z"
   },
   {
    "duration": 76,
    "start_time": "2022-05-25T17:21:17.395Z"
   },
   {
    "duration": 105,
    "start_time": "2022-05-25T17:21:17.475Z"
   },
   {
    "duration": 22,
    "start_time": "2022-05-25T17:21:17.582Z"
   },
   {
    "duration": 62,
    "start_time": "2022-05-25T17:21:17.606Z"
   },
   {
    "duration": 112,
    "start_time": "2022-05-25T17:21:17.670Z"
   },
   {
    "duration": 98,
    "start_time": "2022-05-25T17:21:17.784Z"
   },
   {
    "duration": 4258,
    "start_time": "2022-05-25T17:21:17.889Z"
   },
   {
    "duration": 258,
    "start_time": "2022-05-25T17:21:22.148Z"
   },
   {
    "duration": 92,
    "start_time": "2022-05-25T17:21:22.408Z"
   },
   {
    "duration": 30,
    "start_time": "2022-05-25T17:23:29.986Z"
   },
   {
    "duration": 46,
    "start_time": "2022-05-25T17:23:30.637Z"
   },
   {
    "duration": 1150,
    "start_time": "2022-05-25T17:23:36.256Z"
   },
   {
    "duration": 110,
    "start_time": "2022-05-25T17:23:37.411Z"
   },
   {
    "duration": 13,
    "start_time": "2022-05-25T17:23:37.522Z"
   },
   {
    "duration": 36,
    "start_time": "2022-05-25T17:23:37.536Z"
   },
   {
    "duration": 51,
    "start_time": "2022-05-25T17:23:37.578Z"
   },
   {
    "duration": 5,
    "start_time": "2022-05-25T17:23:37.630Z"
   },
   {
    "duration": 8,
    "start_time": "2022-05-25T17:23:37.636Z"
   },
   {
    "duration": 11,
    "start_time": "2022-05-25T17:23:37.645Z"
   },
   {
    "duration": 28,
    "start_time": "2022-05-25T17:23:37.657Z"
   },
   {
    "duration": 17,
    "start_time": "2022-05-25T17:23:37.688Z"
   },
   {
    "duration": 9,
    "start_time": "2022-05-25T17:23:37.706Z"
   },
   {
    "duration": 11,
    "start_time": "2022-05-25T17:23:37.716Z"
   },
   {
    "duration": 8,
    "start_time": "2022-05-25T17:23:37.728Z"
   },
   {
    "duration": 8,
    "start_time": "2022-05-25T17:23:37.738Z"
   },
   {
    "duration": 6,
    "start_time": "2022-05-25T17:23:37.747Z"
   },
   {
    "duration": 40,
    "start_time": "2022-05-25T17:23:37.754Z"
   },
   {
    "duration": 30,
    "start_time": "2022-05-25T17:23:37.798Z"
   },
   {
    "duration": 7,
    "start_time": "2022-05-25T17:23:37.830Z"
   },
   {
    "duration": 42,
    "start_time": "2022-05-25T17:23:37.839Z"
   },
   {
    "duration": 23,
    "start_time": "2022-05-25T17:23:37.883Z"
   },
   {
    "duration": 158,
    "start_time": "2022-05-25T17:23:37.908Z"
   },
   {
    "duration": 249,
    "start_time": "2022-05-25T17:23:38.070Z"
   },
   {
    "duration": 251,
    "start_time": "2022-05-25T17:23:38.322Z"
   },
   {
    "duration": 12,
    "start_time": "2022-05-25T17:23:38.579Z"
   },
   {
    "duration": 21,
    "start_time": "2022-05-25T17:23:38.593Z"
   },
   {
    "duration": 32,
    "start_time": "2022-05-25T17:23:38.617Z"
   },
   {
    "duration": 34,
    "start_time": "2022-05-25T17:23:38.651Z"
   },
   {
    "duration": 117,
    "start_time": "2022-05-25T17:23:38.689Z"
   },
   {
    "duration": 73,
    "start_time": "2022-05-25T17:23:38.808Z"
   },
   {
    "duration": 34,
    "start_time": "2022-05-25T17:23:38.883Z"
   },
   {
    "duration": 58,
    "start_time": "2022-05-25T17:23:38.918Z"
   },
   {
    "duration": 127,
    "start_time": "2022-05-25T17:23:38.978Z"
   },
   {
    "duration": 59,
    "start_time": "2022-05-25T17:23:39.106Z"
   },
   {
    "duration": 4408,
    "start_time": "2022-05-25T17:23:39.167Z"
   },
   {
    "duration": 263,
    "start_time": "2022-05-25T17:23:43.577Z"
   },
   {
    "duration": 115,
    "start_time": "2022-05-25T17:23:43.842Z"
   },
   {
    "duration": 210,
    "start_time": "2022-05-25T17:25:13.238Z"
   },
   {
    "duration": 1226,
    "start_time": "2022-05-25T17:25:19.445Z"
   },
   {
    "duration": 115,
    "start_time": "2022-05-25T17:25:20.680Z"
   },
   {
    "duration": 14,
    "start_time": "2022-05-25T17:25:20.797Z"
   },
   {
    "duration": 36,
    "start_time": "2022-05-25T17:25:20.813Z"
   },
   {
    "duration": 59,
    "start_time": "2022-05-25T17:25:20.850Z"
   },
   {
    "duration": 15,
    "start_time": "2022-05-25T17:25:20.911Z"
   },
   {
    "duration": 95,
    "start_time": "2022-05-25T17:25:20.927Z"
   },
   {
    "duration": 67,
    "start_time": "2022-05-25T17:25:21.024Z"
   },
   {
    "duration": 41,
    "start_time": "2022-05-25T17:25:21.093Z"
   },
   {
    "duration": 77,
    "start_time": "2022-05-25T17:25:21.137Z"
   },
   {
    "duration": 79,
    "start_time": "2022-05-25T17:25:21.216Z"
   },
   {
    "duration": 105,
    "start_time": "2022-05-25T17:25:21.297Z"
   },
   {
    "duration": 89,
    "start_time": "2022-05-25T17:25:21.403Z"
   },
   {
    "duration": 36,
    "start_time": "2022-05-25T17:25:21.494Z"
   },
   {
    "duration": 90,
    "start_time": "2022-05-25T17:25:21.532Z"
   },
   {
    "duration": 82,
    "start_time": "2022-05-25T17:25:21.624Z"
   },
   {
    "duration": 103,
    "start_time": "2022-05-25T17:25:21.707Z"
   },
   {
    "duration": 70,
    "start_time": "2022-05-25T17:25:21.811Z"
   },
   {
    "duration": 56,
    "start_time": "2022-05-25T17:25:21.889Z"
   },
   {
    "duration": 50,
    "start_time": "2022-05-25T17:25:21.947Z"
   },
   {
    "duration": 120,
    "start_time": "2022-05-25T17:25:21.998Z"
   },
   {
    "duration": 382,
    "start_time": "2022-05-25T17:25:22.121Z"
   },
   {
    "duration": 278,
    "start_time": "2022-05-25T17:25:22.505Z"
   },
   {
    "duration": 6,
    "start_time": "2022-05-25T17:25:22.785Z"
   },
   {
    "duration": 34,
    "start_time": "2022-05-25T17:25:22.792Z"
   },
   {
    "duration": 88,
    "start_time": "2022-05-25T17:25:22.827Z"
   },
   {
    "duration": 45,
    "start_time": "2022-05-25T17:25:22.917Z"
   },
   {
    "duration": 96,
    "start_time": "2022-05-25T17:25:22.966Z"
   },
   {
    "duration": 73,
    "start_time": "2022-05-25T17:25:23.064Z"
   },
   {
    "duration": 61,
    "start_time": "2022-05-25T17:25:23.138Z"
   },
   {
    "duration": 82,
    "start_time": "2022-05-25T17:25:23.201Z"
   },
   {
    "duration": 40,
    "start_time": "2022-05-25T17:25:23.361Z"
   },
   {
    "duration": 77,
    "start_time": "2022-05-25T17:25:23.403Z"
   },
   {
    "duration": 4196,
    "start_time": "2022-05-25T17:25:23.483Z"
   },
   {
    "duration": 232,
    "start_time": "2022-05-25T17:25:27.684Z"
   },
   {
    "duration": 109,
    "start_time": "2022-05-25T17:25:27.918Z"
   },
   {
    "duration": 1108,
    "start_time": "2022-05-25T17:26:55.620Z"
   },
   {
    "duration": 122,
    "start_time": "2022-05-25T17:26:56.731Z"
   },
   {
    "duration": 28,
    "start_time": "2022-05-25T17:26:56.855Z"
   },
   {
    "duration": 36,
    "start_time": "2022-05-25T17:26:56.885Z"
   },
   {
    "duration": 63,
    "start_time": "2022-05-25T17:26:56.923Z"
   },
   {
    "duration": 5,
    "start_time": "2022-05-25T17:26:56.992Z"
   },
   {
    "duration": 30,
    "start_time": "2022-05-25T17:26:56.998Z"
   },
   {
    "duration": 13,
    "start_time": "2022-05-25T17:26:57.029Z"
   },
   {
    "duration": 45,
    "start_time": "2022-05-25T17:26:57.043Z"
   },
   {
    "duration": 26,
    "start_time": "2022-05-25T17:26:57.091Z"
   },
   {
    "duration": 21,
    "start_time": "2022-05-25T17:26:57.118Z"
   },
   {
    "duration": 29,
    "start_time": "2022-05-25T17:26:57.141Z"
   },
   {
    "duration": 26,
    "start_time": "2022-05-25T17:26:57.177Z"
   },
   {
    "duration": 34,
    "start_time": "2022-05-25T17:26:57.205Z"
   },
   {
    "duration": 6,
    "start_time": "2022-05-25T17:26:57.241Z"
   },
   {
    "duration": 48,
    "start_time": "2022-05-25T17:26:57.248Z"
   },
   {
    "duration": 56,
    "start_time": "2022-05-25T17:26:57.298Z"
   },
   {
    "duration": 34,
    "start_time": "2022-05-25T17:26:57.355Z"
   },
   {
    "duration": 61,
    "start_time": "2022-05-25T17:26:57.390Z"
   },
   {
    "duration": 4,
    "start_time": "2022-05-25T17:26:57.453Z"
   },
   {
    "duration": 115,
    "start_time": "2022-05-25T17:26:57.458Z"
   },
   {
    "duration": 325,
    "start_time": "2022-05-25T17:26:57.576Z"
   },
   {
    "duration": 302,
    "start_time": "2022-05-25T17:26:57.903Z"
   },
   {
    "duration": 4,
    "start_time": "2022-05-25T17:26:58.207Z"
   },
   {
    "duration": 39,
    "start_time": "2022-05-25T17:26:58.214Z"
   },
   {
    "duration": 70,
    "start_time": "2022-05-25T17:26:58.255Z"
   },
   {
    "duration": 47,
    "start_time": "2022-05-25T17:26:58.328Z"
   },
   {
    "duration": 120,
    "start_time": "2022-05-25T17:26:58.382Z"
   },
   {
    "duration": 25,
    "start_time": "2022-05-25T17:26:58.504Z"
   },
   {
    "duration": 34,
    "start_time": "2022-05-25T17:26:58.531Z"
   },
   {
    "duration": 91,
    "start_time": "2022-05-25T17:26:58.574Z"
   },
   {
    "duration": 135,
    "start_time": "2022-05-25T17:26:58.672Z"
   },
   {
    "duration": 60,
    "start_time": "2022-05-25T17:26:58.808Z"
   },
   {
    "duration": 4209,
    "start_time": "2022-05-25T17:26:58.870Z"
   },
   {
    "duration": 243,
    "start_time": "2022-05-25T17:27:03.081Z"
   },
   {
    "duration": 96,
    "start_time": "2022-05-25T17:27:03.325Z"
   },
   {
    "duration": 1551,
    "start_time": "2022-05-26T14:52:19.020Z"
   },
   {
    "duration": 182,
    "start_time": "2022-05-26T14:52:20.573Z"
   },
   {
    "duration": 17,
    "start_time": "2022-05-26T14:52:20.757Z"
   },
   {
    "duration": 24,
    "start_time": "2022-05-26T14:52:20.776Z"
   },
   {
    "duration": 45,
    "start_time": "2022-05-26T14:52:20.802Z"
   },
   {
    "duration": 6,
    "start_time": "2022-05-26T14:52:20.849Z"
   },
   {
    "duration": 15,
    "start_time": "2022-05-26T14:52:20.857Z"
   },
   {
    "duration": 26,
    "start_time": "2022-05-26T14:52:20.874Z"
   },
   {
    "duration": 22,
    "start_time": "2022-05-26T14:52:20.905Z"
   },
   {
    "duration": 14,
    "start_time": "2022-05-26T14:52:20.930Z"
   },
   {
    "duration": 11,
    "start_time": "2022-05-26T14:52:20.946Z"
   },
   {
    "duration": 12,
    "start_time": "2022-05-26T14:52:20.958Z"
   },
   {
    "duration": 31,
    "start_time": "2022-05-26T14:52:20.972Z"
   },
   {
    "duration": 14,
    "start_time": "2022-05-26T14:52:21.004Z"
   },
   {
    "duration": 13,
    "start_time": "2022-05-26T14:52:21.020Z"
   },
   {
    "duration": 6,
    "start_time": "2022-05-26T14:52:21.035Z"
   },
   {
    "duration": 52,
    "start_time": "2022-05-26T14:52:21.043Z"
   },
   {
    "duration": 16,
    "start_time": "2022-05-26T14:52:21.100Z"
   },
   {
    "duration": 24,
    "start_time": "2022-05-26T14:52:21.118Z"
   },
   {
    "duration": 5,
    "start_time": "2022-05-26T14:52:21.144Z"
   },
   {
    "duration": 147,
    "start_time": "2022-05-26T14:52:21.151Z"
   },
   {
    "duration": 224,
    "start_time": "2022-05-26T14:52:21.299Z"
   },
   {
    "duration": 311,
    "start_time": "2022-05-26T14:52:21.526Z"
   },
   {
    "duration": 5,
    "start_time": "2022-05-26T14:52:21.838Z"
   },
   {
    "duration": 22,
    "start_time": "2022-05-26T14:52:21.845Z"
   },
   {
    "duration": 38,
    "start_time": "2022-05-26T14:52:21.869Z"
   },
   {
    "duration": 98,
    "start_time": "2022-05-26T14:52:21.909Z"
   },
   {
    "duration": 72,
    "start_time": "2022-05-26T14:52:22.024Z"
   },
   {
    "duration": 32,
    "start_time": "2022-05-26T14:52:22.098Z"
   },
   {
    "duration": 12,
    "start_time": "2022-05-26T14:52:22.132Z"
   },
   {
    "duration": 72,
    "start_time": "2022-05-26T14:52:22.146Z"
   },
   {
    "duration": 94,
    "start_time": "2022-05-26T14:52:22.223Z"
   },
   {
    "duration": 90,
    "start_time": "2022-05-26T14:52:22.319Z"
   },
   {
    "duration": 4804,
    "start_time": "2022-05-26T14:52:22.414Z"
   },
   {
    "duration": 248,
    "start_time": "2022-05-26T14:52:27.220Z"
   },
   {
    "duration": 103,
    "start_time": "2022-05-26T14:52:27.470Z"
   },
   {
    "duration": 179,
    "start_time": "2022-05-26T14:52:27.574Z"
   },
   {
    "duration": 283,
    "start_time": "2022-05-26T14:53:58.503Z"
   },
   {
    "duration": 4936,
    "start_time": "2022-05-26T14:56:25.964Z"
   },
   {
    "duration": 41,
    "start_time": "2022-05-26T15:36:15.820Z"
   },
   {
    "duration": 21,
    "start_time": "2022-05-26T15:51:20.445Z"
   },
   {
    "duration": 312,
    "start_time": "2022-05-26T15:51:22.830Z"
   },
   {
    "duration": 220,
    "start_time": "2022-05-26T15:56:09.592Z"
   },
   {
    "duration": 1479,
    "start_time": "2022-05-26T15:56:18.494Z"
   },
   {
    "duration": 194,
    "start_time": "2022-05-26T15:56:19.981Z"
   },
   {
    "duration": 41,
    "start_time": "2022-05-26T15:56:20.179Z"
   },
   {
    "duration": 88,
    "start_time": "2022-05-26T15:56:20.235Z"
   },
   {
    "duration": 102,
    "start_time": "2022-05-26T15:56:20.326Z"
   },
   {
    "duration": 8,
    "start_time": "2022-05-26T15:56:20.430Z"
   },
   {
    "duration": 77,
    "start_time": "2022-05-26T15:56:20.441Z"
   },
   {
    "duration": 39,
    "start_time": "2022-05-26T15:56:20.521Z"
   },
   {
    "duration": 17,
    "start_time": "2022-05-26T15:56:20.562Z"
   },
   {
    "duration": 66,
    "start_time": "2022-05-26T15:56:20.582Z"
   },
   {
    "duration": 12,
    "start_time": "2022-05-26T15:56:20.651Z"
   },
   {
    "duration": 50,
    "start_time": "2022-05-26T15:56:20.665Z"
   },
   {
    "duration": 46,
    "start_time": "2022-05-26T15:56:20.717Z"
   },
   {
    "duration": 29,
    "start_time": "2022-05-26T15:56:20.766Z"
   },
   {
    "duration": 42,
    "start_time": "2022-05-26T15:56:20.799Z"
   },
   {
    "duration": 11,
    "start_time": "2022-05-26T15:56:20.843Z"
   },
   {
    "duration": 55,
    "start_time": "2022-05-26T15:56:20.856Z"
   },
   {
    "duration": 9,
    "start_time": "2022-05-26T15:56:20.917Z"
   },
   {
    "duration": 29,
    "start_time": "2022-05-26T15:56:20.931Z"
   },
   {
    "duration": 5,
    "start_time": "2022-05-26T15:56:20.962Z"
   },
   {
    "duration": 160,
    "start_time": "2022-05-26T15:56:20.969Z"
   },
   {
    "duration": 325,
    "start_time": "2022-05-26T15:56:21.133Z"
   },
   {
    "duration": 297,
    "start_time": "2022-05-26T15:56:21.460Z"
   },
   {
    "duration": 5,
    "start_time": "2022-05-26T15:56:21.760Z"
   },
   {
    "duration": 20,
    "start_time": "2022-05-26T15:56:21.767Z"
   },
   {
    "duration": 44,
    "start_time": "2022-05-26T15:56:21.790Z"
   },
   {
    "duration": 91,
    "start_time": "2022-05-26T15:56:21.837Z"
   },
   {
    "duration": 39,
    "start_time": "2022-05-26T15:56:21.995Z"
   },
   {
    "duration": 16,
    "start_time": "2022-05-26T15:56:22.037Z"
   },
   {
    "duration": 12,
    "start_time": "2022-05-26T15:56:22.056Z"
   },
   {
    "duration": 169,
    "start_time": "2022-05-26T15:56:22.070Z"
   },
   {
    "duration": 81,
    "start_time": "2022-05-26T15:56:22.242Z"
   },
   {
    "duration": 176,
    "start_time": "2022-05-26T15:56:22.325Z"
   },
   {
    "duration": 4989,
    "start_time": "2022-05-26T15:56:22.504Z"
   },
   {
    "duration": 254,
    "start_time": "2022-05-26T15:56:27.509Z"
   },
   {
    "duration": 124,
    "start_time": "2022-05-26T15:56:27.765Z"
   },
   {
    "duration": 241,
    "start_time": "2022-05-26T15:56:27.891Z"
   }
  ],
  "kernelspec": {
   "display_name": "Python 3 (ipykernel)",
   "language": "python",
   "name": "python3"
  },
  "language_info": {
   "codemirror_mode": {
    "name": "ipython",
    "version": 3
   },
   "file_extension": ".py",
   "mimetype": "text/x-python",
   "name": "python",
   "nbconvert_exporter": "python",
   "pygments_lexer": "ipython3",
   "version": "3.9.7"
  },
  "toc": {
   "base_numbering": 1,
   "nav_menu": {},
   "number_sections": true,
   "sideBar": true,
   "skip_h1_title": true,
   "title_cell": "Содержание",
   "title_sidebar": "Contents",
   "toc_cell": true,
   "toc_position": {
    "height": "calc(100% - 180px)",
    "left": "10px",
    "top": "150px",
    "width": "252.656px"
   },
   "toc_section_display": true,
   "toc_window_display": true
  }
 },
 "nbformat": 4,
 "nbformat_minor": 2
}
